{
 "cells": [
  {
   "cell_type": "code",
   "execution_count": 41,
   "outputs": [],
   "source": [
    "import numpy as np\n",
    "import pandas as pd\n",
    "import nltk\n",
    "import string\n",
    "from nltk.corpus import stopwords\n",
    "from nltk.stem.porter import PorterStemmer\n",
    "from nltk.tokenize import word_tokenize\n",
    "from bs4 import BeautifulSoup\n",
    "from sklearn.preprocessing import LabelEncoder\n",
    "from sklearn.feature_extraction.text import CountVectorizer,TfidfVectorizer\n",
    "from sklearn.preprocessing import StandardScaler ,Normalizer\n",
    "\n"
   ],
   "metadata": {
    "collapsed": false,
    "pycharm": {
     "name": "#%%\n"
    }
   }
  },
  {
   "cell_type": "code",
   "execution_count": 42,
   "outputs": [
    {
     "data": {
      "text/plain": "                     track_id  \\\n0      6f807x0ima9a1j3VPbc7VN   \n1      0r7CVbZTWZgbTCYdfa2P31   \n2      1z1Hg7Vb0AhHDiEmnDE79l   \n3      75FpbthrwQmzHlBJLuGdC7   \n4      1e8PAfcKUYoKkxPhrHqw4x   \n...                       ...   \n32828  7bxnKAamR3snQ1VGLuVfC1   \n32829  5Aevni09Em4575077nkWHz   \n32830  7ImMqPP3Q1yfUHvsdn7wEo   \n32831  2m69mhnfQ1Oq6lGtXuYhgX   \n32832  29zWqhca3zt5NsckZqDf6c   \n\n                                              track_name      track_artist  \\\n0      I Don't Care (with Justin Bieber) - Loud Luxur...        Ed Sheeran   \n1                        Memories - Dillon Francis Remix          Maroon 5   \n2                        All the Time - Don Diablo Remix      Zara Larsson   \n3                      Call You Mine - Keanu Silva Remix  The Chainsmokers   \n4                Someone You Loved - Future Humans Remix     Lewis Capaldi   \n...                                                  ...               ...   \n32828               City Of Lights - Official Radio Edit      Lush & Simon   \n32829                Closer - Sultan & Ned Shepard Remix    Tegan and Sara   \n32830                       Sweet Surrender - Radio Edit       Starkillers   \n32831                     Only For You - Maor Levi Remix            Mat Zo   \n32832                             Typhoon - Original Mix      Julian Calor   \n\n       track_popularity          track_album_id  \\\n0                    66  2oCs0DGTsRO98Gh5ZSl2Cx   \n1                    67  63rPSO264uRjW1X5E6cWv6   \n2                    70  1HoSmj2eLcsrR0vE9gThr4   \n3                    60  1nqYsOef1yKKuGOVchbsk6   \n4                    69  7m7vv9wlQ4i0LFuJiE2zsQ   \n...                 ...                     ...   \n32828                42  2azRoBBWEEEYhqV6sb7JrT   \n32829                20  6kD6KLxj7s8eCE3ABvAyf5   \n32830                14  0ltWNSY9JgxoIZO4VzuCa6   \n32831                15  1fGrOkHnHJcStl14zNx8Jy   \n32832                27  0X3mUOm6MhxR7PzxG95rAo   \n\n                                        track_album_name  \\\n0      I Don't Care (with Justin Bieber) [Loud Luxury...   \n1                        Memories (Dillon Francis Remix)   \n2                        All the Time (Don Diablo Remix)   \n3                            Call You Mine - The Remixes   \n4                Someone You Loved (Future Humans Remix)   \n...                                                  ...   \n32828                         City Of Lights (Vocal Mix)   \n32829                                     Closer Remixed   \n32830                       Sweet Surrender (Radio Edit)   \n32831                             Only For You (Remixes)   \n32832                                      Typhoon/Storm   \n\n      track_album_release_date    playlist_name             playlist_id  \\\n0                   2019-06-14        Pop Remix  37i9dQZF1DXcZDD7cfEKhW   \n1                   2019-12-13        Pop Remix  37i9dQZF1DXcZDD7cfEKhW   \n2                   2019-07-05        Pop Remix  37i9dQZF1DXcZDD7cfEKhW   \n3                   2019-07-19        Pop Remix  37i9dQZF1DXcZDD7cfEKhW   \n4                   2019-03-05        Pop Remix  37i9dQZF1DXcZDD7cfEKhW   \n...                        ...              ...                     ...   \n32828               2014-04-28  ♥ EDM LOVE 2020  6jI1gFr6ANFtT8MmTvA2Ux   \n32829               2013-03-08  ♥ EDM LOVE 2020  6jI1gFr6ANFtT8MmTvA2Ux   \n32830               2014-04-21  ♥ EDM LOVE 2020  6jI1gFr6ANFtT8MmTvA2Ux   \n32831               2014-01-01  ♥ EDM LOVE 2020  6jI1gFr6ANFtT8MmTvA2Ux   \n32832               2014-03-03  ♥ EDM LOVE 2020  6jI1gFr6ANFtT8MmTvA2Ux   \n\n      playlist_genre  ... key  loudness  mode  speechiness  acousticness  \\\n0                pop  ...   6    -2.634     1       0.0583      0.102000   \n1                pop  ...  11    -4.969     1       0.0373      0.072400   \n2                pop  ...   1    -3.432     0       0.0742      0.079400   \n3                pop  ...   7    -3.778     1       0.1020      0.028700   \n4                pop  ...   1    -4.672     1       0.0359      0.080300   \n...              ...  ...  ..       ...   ...          ...           ...   \n32828            edm  ...   2    -1.814     1       0.0936      0.076600   \n32829            edm  ...   0    -4.462     1       0.0420      0.001710   \n32830            edm  ...   6    -4.899     0       0.0481      0.108000   \n32831            edm  ...   2    -3.361     1       0.1090      0.007920   \n32832            edm  ...   5    -4.571     0       0.0385      0.000133   \n\n       instrumentalness  liveness  valence    tempo  duration_ms  \n0              0.000000    0.0653   0.5180  122.036       194754  \n1              0.004210    0.3570   0.6930   99.972       162600  \n2              0.000023    0.1100   0.6130  124.008       176616  \n3              0.000009    0.2040   0.2770  121.956       169093  \n4              0.000000    0.0833   0.7250  123.976       189052  \n...                 ...       ...      ...      ...          ...  \n32828          0.000000    0.0668   0.2100  128.170       204375  \n32829          0.004270    0.3750   0.4000  128.041       353120  \n32830          0.000001    0.1500   0.4360  127.989       210112  \n32831          0.127000    0.3430   0.3080  128.008       367432  \n32832          0.341000    0.7420   0.0894  127.984       337500  \n\n[32833 rows x 23 columns]",
      "text/html": "<div>\n<style scoped>\n    .dataframe tbody tr th:only-of-type {\n        vertical-align: middle;\n    }\n\n    .dataframe tbody tr th {\n        vertical-align: top;\n    }\n\n    .dataframe thead th {\n        text-align: right;\n    }\n</style>\n<table border=\"1\" class=\"dataframe\">\n  <thead>\n    <tr style=\"text-align: right;\">\n      <th></th>\n      <th>track_id</th>\n      <th>track_name</th>\n      <th>track_artist</th>\n      <th>track_popularity</th>\n      <th>track_album_id</th>\n      <th>track_album_name</th>\n      <th>track_album_release_date</th>\n      <th>playlist_name</th>\n      <th>playlist_id</th>\n      <th>playlist_genre</th>\n      <th>...</th>\n      <th>key</th>\n      <th>loudness</th>\n      <th>mode</th>\n      <th>speechiness</th>\n      <th>acousticness</th>\n      <th>instrumentalness</th>\n      <th>liveness</th>\n      <th>valence</th>\n      <th>tempo</th>\n      <th>duration_ms</th>\n    </tr>\n  </thead>\n  <tbody>\n    <tr>\n      <th>0</th>\n      <td>6f807x0ima9a1j3VPbc7VN</td>\n      <td>I Don't Care (with Justin Bieber) - Loud Luxur...</td>\n      <td>Ed Sheeran</td>\n      <td>66</td>\n      <td>2oCs0DGTsRO98Gh5ZSl2Cx</td>\n      <td>I Don't Care (with Justin Bieber) [Loud Luxury...</td>\n      <td>2019-06-14</td>\n      <td>Pop Remix</td>\n      <td>37i9dQZF1DXcZDD7cfEKhW</td>\n      <td>pop</td>\n      <td>...</td>\n      <td>6</td>\n      <td>-2.634</td>\n      <td>1</td>\n      <td>0.0583</td>\n      <td>0.102000</td>\n      <td>0.000000</td>\n      <td>0.0653</td>\n      <td>0.5180</td>\n      <td>122.036</td>\n      <td>194754</td>\n    </tr>\n    <tr>\n      <th>1</th>\n      <td>0r7CVbZTWZgbTCYdfa2P31</td>\n      <td>Memories - Dillon Francis Remix</td>\n      <td>Maroon 5</td>\n      <td>67</td>\n      <td>63rPSO264uRjW1X5E6cWv6</td>\n      <td>Memories (Dillon Francis Remix)</td>\n      <td>2019-12-13</td>\n      <td>Pop Remix</td>\n      <td>37i9dQZF1DXcZDD7cfEKhW</td>\n      <td>pop</td>\n      <td>...</td>\n      <td>11</td>\n      <td>-4.969</td>\n      <td>1</td>\n      <td>0.0373</td>\n      <td>0.072400</td>\n      <td>0.004210</td>\n      <td>0.3570</td>\n      <td>0.6930</td>\n      <td>99.972</td>\n      <td>162600</td>\n    </tr>\n    <tr>\n      <th>2</th>\n      <td>1z1Hg7Vb0AhHDiEmnDE79l</td>\n      <td>All the Time - Don Diablo Remix</td>\n      <td>Zara Larsson</td>\n      <td>70</td>\n      <td>1HoSmj2eLcsrR0vE9gThr4</td>\n      <td>All the Time (Don Diablo Remix)</td>\n      <td>2019-07-05</td>\n      <td>Pop Remix</td>\n      <td>37i9dQZF1DXcZDD7cfEKhW</td>\n      <td>pop</td>\n      <td>...</td>\n      <td>1</td>\n      <td>-3.432</td>\n      <td>0</td>\n      <td>0.0742</td>\n      <td>0.079400</td>\n      <td>0.000023</td>\n      <td>0.1100</td>\n      <td>0.6130</td>\n      <td>124.008</td>\n      <td>176616</td>\n    </tr>\n    <tr>\n      <th>3</th>\n      <td>75FpbthrwQmzHlBJLuGdC7</td>\n      <td>Call You Mine - Keanu Silva Remix</td>\n      <td>The Chainsmokers</td>\n      <td>60</td>\n      <td>1nqYsOef1yKKuGOVchbsk6</td>\n      <td>Call You Mine - The Remixes</td>\n      <td>2019-07-19</td>\n      <td>Pop Remix</td>\n      <td>37i9dQZF1DXcZDD7cfEKhW</td>\n      <td>pop</td>\n      <td>...</td>\n      <td>7</td>\n      <td>-3.778</td>\n      <td>1</td>\n      <td>0.1020</td>\n      <td>0.028700</td>\n      <td>0.000009</td>\n      <td>0.2040</td>\n      <td>0.2770</td>\n      <td>121.956</td>\n      <td>169093</td>\n    </tr>\n    <tr>\n      <th>4</th>\n      <td>1e8PAfcKUYoKkxPhrHqw4x</td>\n      <td>Someone You Loved - Future Humans Remix</td>\n      <td>Lewis Capaldi</td>\n      <td>69</td>\n      <td>7m7vv9wlQ4i0LFuJiE2zsQ</td>\n      <td>Someone You Loved (Future Humans Remix)</td>\n      <td>2019-03-05</td>\n      <td>Pop Remix</td>\n      <td>37i9dQZF1DXcZDD7cfEKhW</td>\n      <td>pop</td>\n      <td>...</td>\n      <td>1</td>\n      <td>-4.672</td>\n      <td>1</td>\n      <td>0.0359</td>\n      <td>0.080300</td>\n      <td>0.000000</td>\n      <td>0.0833</td>\n      <td>0.7250</td>\n      <td>123.976</td>\n      <td>189052</td>\n    </tr>\n    <tr>\n      <th>...</th>\n      <td>...</td>\n      <td>...</td>\n      <td>...</td>\n      <td>...</td>\n      <td>...</td>\n      <td>...</td>\n      <td>...</td>\n      <td>...</td>\n      <td>...</td>\n      <td>...</td>\n      <td>...</td>\n      <td>...</td>\n      <td>...</td>\n      <td>...</td>\n      <td>...</td>\n      <td>...</td>\n      <td>...</td>\n      <td>...</td>\n      <td>...</td>\n      <td>...</td>\n      <td>...</td>\n    </tr>\n    <tr>\n      <th>32828</th>\n      <td>7bxnKAamR3snQ1VGLuVfC1</td>\n      <td>City Of Lights - Official Radio Edit</td>\n      <td>Lush &amp; Simon</td>\n      <td>42</td>\n      <td>2azRoBBWEEEYhqV6sb7JrT</td>\n      <td>City Of Lights (Vocal Mix)</td>\n      <td>2014-04-28</td>\n      <td>♥ EDM LOVE 2020</td>\n      <td>6jI1gFr6ANFtT8MmTvA2Ux</td>\n      <td>edm</td>\n      <td>...</td>\n      <td>2</td>\n      <td>-1.814</td>\n      <td>1</td>\n      <td>0.0936</td>\n      <td>0.076600</td>\n      <td>0.000000</td>\n      <td>0.0668</td>\n      <td>0.2100</td>\n      <td>128.170</td>\n      <td>204375</td>\n    </tr>\n    <tr>\n      <th>32829</th>\n      <td>5Aevni09Em4575077nkWHz</td>\n      <td>Closer - Sultan &amp; Ned Shepard Remix</td>\n      <td>Tegan and Sara</td>\n      <td>20</td>\n      <td>6kD6KLxj7s8eCE3ABvAyf5</td>\n      <td>Closer Remixed</td>\n      <td>2013-03-08</td>\n      <td>♥ EDM LOVE 2020</td>\n      <td>6jI1gFr6ANFtT8MmTvA2Ux</td>\n      <td>edm</td>\n      <td>...</td>\n      <td>0</td>\n      <td>-4.462</td>\n      <td>1</td>\n      <td>0.0420</td>\n      <td>0.001710</td>\n      <td>0.004270</td>\n      <td>0.3750</td>\n      <td>0.4000</td>\n      <td>128.041</td>\n      <td>353120</td>\n    </tr>\n    <tr>\n      <th>32830</th>\n      <td>7ImMqPP3Q1yfUHvsdn7wEo</td>\n      <td>Sweet Surrender - Radio Edit</td>\n      <td>Starkillers</td>\n      <td>14</td>\n      <td>0ltWNSY9JgxoIZO4VzuCa6</td>\n      <td>Sweet Surrender (Radio Edit)</td>\n      <td>2014-04-21</td>\n      <td>♥ EDM LOVE 2020</td>\n      <td>6jI1gFr6ANFtT8MmTvA2Ux</td>\n      <td>edm</td>\n      <td>...</td>\n      <td>6</td>\n      <td>-4.899</td>\n      <td>0</td>\n      <td>0.0481</td>\n      <td>0.108000</td>\n      <td>0.000001</td>\n      <td>0.1500</td>\n      <td>0.4360</td>\n      <td>127.989</td>\n      <td>210112</td>\n    </tr>\n    <tr>\n      <th>32831</th>\n      <td>2m69mhnfQ1Oq6lGtXuYhgX</td>\n      <td>Only For You - Maor Levi Remix</td>\n      <td>Mat Zo</td>\n      <td>15</td>\n      <td>1fGrOkHnHJcStl14zNx8Jy</td>\n      <td>Only For You (Remixes)</td>\n      <td>2014-01-01</td>\n      <td>♥ EDM LOVE 2020</td>\n      <td>6jI1gFr6ANFtT8MmTvA2Ux</td>\n      <td>edm</td>\n      <td>...</td>\n      <td>2</td>\n      <td>-3.361</td>\n      <td>1</td>\n      <td>0.1090</td>\n      <td>0.007920</td>\n      <td>0.127000</td>\n      <td>0.3430</td>\n      <td>0.3080</td>\n      <td>128.008</td>\n      <td>367432</td>\n    </tr>\n    <tr>\n      <th>32832</th>\n      <td>29zWqhca3zt5NsckZqDf6c</td>\n      <td>Typhoon - Original Mix</td>\n      <td>Julian Calor</td>\n      <td>27</td>\n      <td>0X3mUOm6MhxR7PzxG95rAo</td>\n      <td>Typhoon/Storm</td>\n      <td>2014-03-03</td>\n      <td>♥ EDM LOVE 2020</td>\n      <td>6jI1gFr6ANFtT8MmTvA2Ux</td>\n      <td>edm</td>\n      <td>...</td>\n      <td>5</td>\n      <td>-4.571</td>\n      <td>0</td>\n      <td>0.0385</td>\n      <td>0.000133</td>\n      <td>0.341000</td>\n      <td>0.7420</td>\n      <td>0.0894</td>\n      <td>127.984</td>\n      <td>337500</td>\n    </tr>\n  </tbody>\n</table>\n<p>32833 rows × 23 columns</p>\n</div>"
     },
     "execution_count": 42,
     "metadata": {},
     "output_type": "execute_result"
    }
   ],
   "source": [
    "data=pd.read_csv(\"spotify_songs.csv\")\n",
    "data"
   ],
   "metadata": {
    "collapsed": false,
    "pycharm": {
     "name": "#%%\n"
    }
   }
  },
  {
   "cell_type": "code",
   "execution_count": 43,
   "outputs": [
    {
     "name": "stdout",
     "output_type": "stream",
     "text": [
      "<class 'pandas.core.frame.DataFrame'>\n",
      "RangeIndex: 32833 entries, 0 to 32832\n",
      "Data columns (total 23 columns):\n",
      " #   Column                    Non-Null Count  Dtype  \n",
      "---  ------                    --------------  -----  \n",
      " 0   track_id                  32833 non-null  object \n",
      " 1   track_name                32828 non-null  object \n",
      " 2   track_artist              32828 non-null  object \n",
      " 3   track_popularity          32833 non-null  int64  \n",
      " 4   track_album_id            32833 non-null  object \n",
      " 5   track_album_name          32828 non-null  object \n",
      " 6   track_album_release_date  32833 non-null  object \n",
      " 7   playlist_name             32833 non-null  object \n",
      " 8   playlist_id               32833 non-null  object \n",
      " 9   playlist_genre            32833 non-null  object \n",
      " 10  playlist_subgenre         32833 non-null  object \n",
      " 11  danceability              32833 non-null  float64\n",
      " 12  energy                    32833 non-null  float64\n",
      " 13  key                       32833 non-null  int64  \n",
      " 14  loudness                  32833 non-null  float64\n",
      " 15  mode                      32833 non-null  int64  \n",
      " 16  speechiness               32833 non-null  float64\n",
      " 17  acousticness              32833 non-null  float64\n",
      " 18  instrumentalness          32833 non-null  float64\n",
      " 19  liveness                  32833 non-null  float64\n",
      " 20  valence                   32833 non-null  float64\n",
      " 21  tempo                     32833 non-null  float64\n",
      " 22  duration_ms               32833 non-null  int64  \n",
      "dtypes: float64(9), int64(4), object(10)\n",
      "memory usage: 5.8+ MB\n"
     ]
    }
   ],
   "source": [
    "data.info()\n"
   ],
   "metadata": {
    "collapsed": false,
    "pycharm": {
     "name": "#%%\n"
    }
   }
  },
  {
   "cell_type": "code",
   "execution_count": 44,
   "outputs": [
    {
     "data": {
      "text/plain": "track_name           5\ntrack_artist         5\ntrack_popularity     0\ntrack_album_name     5\nplaylist_name        0\nplaylist_genre       0\nplaylist_subgenre    0\ndanceability         0\nenergy               0\nkey                  0\nloudness             0\nmode                 0\nspeechiness          0\nacousticness         0\ninstrumentalness     0\nliveness             0\nvalence              0\ntempo                0\nduration_ms          0\ndtype: int64"
     },
     "execution_count": 44,
     "metadata": {},
     "output_type": "execute_result"
    }
   ],
   "source": [
    "data.drop([\"track_id\",\"track_album_id\",\"playlist_id\",\"track_album_release_date\"],axis=1,inplace=True)\n",
    "data.isnull().sum()"
   ],
   "metadata": {
    "collapsed": false,
    "pycharm": {
     "name": "#%%\n"
    }
   }
  },
  {
   "cell_type": "code",
   "execution_count": 45,
   "outputs": [
    {
     "data": {
      "text/plain": "track_name           0\ntrack_artist         0\ntrack_popularity     0\ntrack_album_name     0\nplaylist_name        0\nplaylist_genre       0\nplaylist_subgenre    0\ndanceability         0\nenergy               0\nkey                  0\nloudness             0\nmode                 0\nspeechiness          0\nacousticness         0\ninstrumentalness     0\nliveness             0\nvalence              0\ntempo                0\nduration_ms          0\ndtype: int64"
     },
     "execution_count": 45,
     "metadata": {},
     "output_type": "execute_result"
    }
   ],
   "source": [
    "data.dropna(inplace=True)\n",
    "data.isnull().sum()"
   ],
   "metadata": {
    "collapsed": false,
    "pycharm": {
     "name": "#%%\n"
    }
   }
  },
  {
   "cell_type": "code",
   "execution_count": 46,
   "outputs": [
    {
     "data": {
      "text/plain": "(23449, 19)"
     },
     "execution_count": 46,
     "metadata": {},
     "output_type": "execute_result"
    }
   ],
   "source": [
    "#duplicated rows\n",
    "data.drop_duplicates(keep=\"first\",inplace=True)\n",
    "data.drop_duplicates(subset=[\"track_name\"],inplace=True)\n",
    "data.shape"
   ],
   "metadata": {
    "collapsed": false,
    "pycharm": {
     "name": "#%%\n"
    }
   }
  },
  {
   "cell_type": "markdown",
   "source": [
    "# splitting dataset into two datasets"
   ],
   "metadata": {
    "collapsed": false,
    "pycharm": {
     "name": "#%% md\n"
    }
   }
  },
  {
   "cell_type": "markdown",
   "source": [
    "#categorical dataset"
   ],
   "metadata": {
    "collapsed": false,
    "pycharm": {
     "name": "#%% md\n"
    }
   }
  },
  {
   "cell_type": "code",
   "execution_count": 47,
   "outputs": [
    {
     "data": {
      "text/plain": "                                              track_name      track_artist  \\\n0      I Don't Care (with Justin Bieber) - Loud Luxur...        Ed Sheeran   \n1                        Memories - Dillon Francis Remix          Maroon 5   \n2                        All the Time - Don Diablo Remix      Zara Larsson   \n3                      Call You Mine - Keanu Silva Remix  The Chainsmokers   \n4                Someone You Loved - Future Humans Remix     Lewis Capaldi   \n...                                                  ...               ...   \n32828               City Of Lights - Official Radio Edit      Lush & Simon   \n32829                Closer - Sultan & Ned Shepard Remix    Tegan and Sara   \n32830                       Sweet Surrender - Radio Edit       Starkillers   \n32831                     Only For You - Maor Levi Remix            Mat Zo   \n32832                             Typhoon - Original Mix      Julian Calor   \n\n                                        track_album_name    playlist_name  \\\n0      I Don't Care (with Justin Bieber) [Loud Luxury...        Pop Remix   \n1                        Memories (Dillon Francis Remix)        Pop Remix   \n2                        All the Time (Don Diablo Remix)        Pop Remix   \n3                            Call You Mine - The Remixes        Pop Remix   \n4                Someone You Loved (Future Humans Remix)        Pop Remix   \n...                                                  ...              ...   \n32828                         City Of Lights (Vocal Mix)  ♥ EDM LOVE 2020   \n32829                                     Closer Remixed  ♥ EDM LOVE 2020   \n32830                       Sweet Surrender (Radio Edit)  ♥ EDM LOVE 2020   \n32831                             Only For You (Remixes)  ♥ EDM LOVE 2020   \n32832                                      Typhoon/Storm  ♥ EDM LOVE 2020   \n\n      playlist_genre          playlist_subgenre  \n0                pop                  dance pop  \n1                pop                  dance pop  \n2                pop                  dance pop  \n3                pop                  dance pop  \n4                pop                  dance pop  \n...              ...                        ...  \n32828            edm  progressive electro house  \n32829            edm  progressive electro house  \n32830            edm  progressive electro house  \n32831            edm  progressive electro house  \n32832            edm  progressive electro house  \n\n[23449 rows x 6 columns]",
      "text/html": "<div>\n<style scoped>\n    .dataframe tbody tr th:only-of-type {\n        vertical-align: middle;\n    }\n\n    .dataframe tbody tr th {\n        vertical-align: top;\n    }\n\n    .dataframe thead th {\n        text-align: right;\n    }\n</style>\n<table border=\"1\" class=\"dataframe\">\n  <thead>\n    <tr style=\"text-align: right;\">\n      <th></th>\n      <th>track_name</th>\n      <th>track_artist</th>\n      <th>track_album_name</th>\n      <th>playlist_name</th>\n      <th>playlist_genre</th>\n      <th>playlist_subgenre</th>\n    </tr>\n  </thead>\n  <tbody>\n    <tr>\n      <th>0</th>\n      <td>I Don't Care (with Justin Bieber) - Loud Luxur...</td>\n      <td>Ed Sheeran</td>\n      <td>I Don't Care (with Justin Bieber) [Loud Luxury...</td>\n      <td>Pop Remix</td>\n      <td>pop</td>\n      <td>dance pop</td>\n    </tr>\n    <tr>\n      <th>1</th>\n      <td>Memories - Dillon Francis Remix</td>\n      <td>Maroon 5</td>\n      <td>Memories (Dillon Francis Remix)</td>\n      <td>Pop Remix</td>\n      <td>pop</td>\n      <td>dance pop</td>\n    </tr>\n    <tr>\n      <th>2</th>\n      <td>All the Time - Don Diablo Remix</td>\n      <td>Zara Larsson</td>\n      <td>All the Time (Don Diablo Remix)</td>\n      <td>Pop Remix</td>\n      <td>pop</td>\n      <td>dance pop</td>\n    </tr>\n    <tr>\n      <th>3</th>\n      <td>Call You Mine - Keanu Silva Remix</td>\n      <td>The Chainsmokers</td>\n      <td>Call You Mine - The Remixes</td>\n      <td>Pop Remix</td>\n      <td>pop</td>\n      <td>dance pop</td>\n    </tr>\n    <tr>\n      <th>4</th>\n      <td>Someone You Loved - Future Humans Remix</td>\n      <td>Lewis Capaldi</td>\n      <td>Someone You Loved (Future Humans Remix)</td>\n      <td>Pop Remix</td>\n      <td>pop</td>\n      <td>dance pop</td>\n    </tr>\n    <tr>\n      <th>...</th>\n      <td>...</td>\n      <td>...</td>\n      <td>...</td>\n      <td>...</td>\n      <td>...</td>\n      <td>...</td>\n    </tr>\n    <tr>\n      <th>32828</th>\n      <td>City Of Lights - Official Radio Edit</td>\n      <td>Lush &amp; Simon</td>\n      <td>City Of Lights (Vocal Mix)</td>\n      <td>♥ EDM LOVE 2020</td>\n      <td>edm</td>\n      <td>progressive electro house</td>\n    </tr>\n    <tr>\n      <th>32829</th>\n      <td>Closer - Sultan &amp; Ned Shepard Remix</td>\n      <td>Tegan and Sara</td>\n      <td>Closer Remixed</td>\n      <td>♥ EDM LOVE 2020</td>\n      <td>edm</td>\n      <td>progressive electro house</td>\n    </tr>\n    <tr>\n      <th>32830</th>\n      <td>Sweet Surrender - Radio Edit</td>\n      <td>Starkillers</td>\n      <td>Sweet Surrender (Radio Edit)</td>\n      <td>♥ EDM LOVE 2020</td>\n      <td>edm</td>\n      <td>progressive electro house</td>\n    </tr>\n    <tr>\n      <th>32831</th>\n      <td>Only For You - Maor Levi Remix</td>\n      <td>Mat Zo</td>\n      <td>Only For You (Remixes)</td>\n      <td>♥ EDM LOVE 2020</td>\n      <td>edm</td>\n      <td>progressive electro house</td>\n    </tr>\n    <tr>\n      <th>32832</th>\n      <td>Typhoon - Original Mix</td>\n      <td>Julian Calor</td>\n      <td>Typhoon/Storm</td>\n      <td>♥ EDM LOVE 2020</td>\n      <td>edm</td>\n      <td>progressive electro house</td>\n    </tr>\n  </tbody>\n</table>\n<p>23449 rows × 6 columns</p>\n</div>"
     },
     "execution_count": 47,
     "metadata": {},
     "output_type": "execute_result"
    }
   ],
   "source": [
    "categorical_data=data.select_dtypes(\"object\")\n",
    "categorical_data\n"
   ],
   "metadata": {
    "collapsed": false,
    "pycharm": {
     "name": "#%%\n"
    }
   }
  },
  {
   "cell_type": "code",
   "execution_count": 48,
   "outputs": [],
   "source": [
    "\n",
    "categorical_data[\"song_description\"]=categorical_data[\"track_name\"]+categorical_data[\"track_album_name\"]+categorical_data[\"playlist_name\"]+categorical_data[\"playlist_subgenre\"]\n",
    "\n",
    "categorical_data[\"description\"]=categorical_data[\"track_artist\"]+\" \"+categorical_data[\"song_description\"]"
   ],
   "metadata": {
    "collapsed": false,
    "pycharm": {
     "name": "#%%\n"
    }
   }
  },
  {
   "cell_type": "code",
   "execution_count": 49,
   "outputs": [],
   "source": [
    "categorical_data.drop([\"track_name\",\"track_album_name\",\"playlist_subgenre\",\"playlist_name\",\"song_description\",\"track_artist\"],axis=1,inplace=True)"
   ],
   "metadata": {
    "collapsed": false,
    "pycharm": {
     "name": "#%%\n"
    }
   }
  },
  {
   "cell_type": "code",
   "execution_count": 50,
   "outputs": [
    {
     "data": {
      "text/plain": "      labels                                        description\n0        pop  Ed Sheeran I Don't Care (with Justin Bieber) -...\n1        pop  Maroon 5 Memories - Dillon Francis RemixMemori...\n2        pop  Zara Larsson All the Time - Don Diablo RemixAl...\n3        pop  The Chainsmokers Call You Mine - Keanu Silva R...\n4        pop  Lewis Capaldi Someone You Loved - Future Human...\n...      ...                                                ...\n32828    edm  Lush & Simon City Of Lights - Official Radio E...\n32829    edm  Tegan and Sara Closer - Sultan & Ned Shepard R...\n32830    edm  Starkillers Sweet Surrender - Radio EditSweet ...\n32831    edm  Mat Zo Only For You - Maor Levi RemixOnly For ...\n32832    edm  Julian Calor Typhoon - Original MixTyphoon/Sto...\n\n[23449 rows x 2 columns]",
      "text/html": "<div>\n<style scoped>\n    .dataframe tbody tr th:only-of-type {\n        vertical-align: middle;\n    }\n\n    .dataframe tbody tr th {\n        vertical-align: top;\n    }\n\n    .dataframe thead th {\n        text-align: right;\n    }\n</style>\n<table border=\"1\" class=\"dataframe\">\n  <thead>\n    <tr style=\"text-align: right;\">\n      <th></th>\n      <th>labels</th>\n      <th>description</th>\n    </tr>\n  </thead>\n  <tbody>\n    <tr>\n      <th>0</th>\n      <td>pop</td>\n      <td>Ed Sheeran I Don't Care (with Justin Bieber) -...</td>\n    </tr>\n    <tr>\n      <th>1</th>\n      <td>pop</td>\n      <td>Maroon 5 Memories - Dillon Francis RemixMemori...</td>\n    </tr>\n    <tr>\n      <th>2</th>\n      <td>pop</td>\n      <td>Zara Larsson All the Time - Don Diablo RemixAl...</td>\n    </tr>\n    <tr>\n      <th>3</th>\n      <td>pop</td>\n      <td>The Chainsmokers Call You Mine - Keanu Silva R...</td>\n    </tr>\n    <tr>\n      <th>4</th>\n      <td>pop</td>\n      <td>Lewis Capaldi Someone You Loved - Future Human...</td>\n    </tr>\n    <tr>\n      <th>...</th>\n      <td>...</td>\n      <td>...</td>\n    </tr>\n    <tr>\n      <th>32828</th>\n      <td>edm</td>\n      <td>Lush &amp; Simon City Of Lights - Official Radio E...</td>\n    </tr>\n    <tr>\n      <th>32829</th>\n      <td>edm</td>\n      <td>Tegan and Sara Closer - Sultan &amp; Ned Shepard R...</td>\n    </tr>\n    <tr>\n      <th>32830</th>\n      <td>edm</td>\n      <td>Starkillers Sweet Surrender - Radio EditSweet ...</td>\n    </tr>\n    <tr>\n      <th>32831</th>\n      <td>edm</td>\n      <td>Mat Zo Only For You - Maor Levi RemixOnly For ...</td>\n    </tr>\n    <tr>\n      <th>32832</th>\n      <td>edm</td>\n      <td>Julian Calor Typhoon - Original MixTyphoon/Sto...</td>\n    </tr>\n  </tbody>\n</table>\n<p>23449 rows × 2 columns</p>\n</div>"
     },
     "execution_count": 50,
     "metadata": {},
     "output_type": "execute_result"
    }
   ],
   "source": [
    "\n",
    "\n",
    "categorical_data.rename(columns={\"playlist_genre\":\"labels\"},inplace=True)\n",
    "categorical_data\n"
   ],
   "metadata": {
    "collapsed": false,
    "pycharm": {
     "name": "#%%\n"
    }
   }
  },
  {
   "cell_type": "code",
   "execution_count": 51,
   "outputs": [],
   "source": [
    "label_encoder=LabelEncoder()\n",
    "categorical_data[\"labels\"]=label_encoder.fit_transform(categorical_data[\"labels\"])"
   ],
   "metadata": {
    "collapsed": false,
    "pycharm": {
     "name": "#%%\n"
    }
   }
  },
  {
   "cell_type": "code",
   "execution_count": 52,
   "outputs": [],
   "source": [
    "labels=categorical_data[\"labels\"]\n",
    "categorical_data.drop(\"labels\",axis=1,inplace=True)"
   ],
   "metadata": {
    "collapsed": false,
    "pycharm": {
     "name": "#%%\n"
    }
   }
  },
  {
   "cell_type": "code",
   "execution_count": 53,
   "outputs": [],
   "source": [
    "def clean(text):\n",
    "  #HTML to text format\n",
    "    soup=BeautifulSoup(text)\n",
    "    text=soup.getText()\n",
    "\n",
    "  #lowercase\n",
    "    text=text.lower()\n",
    "  #tokenizering\n",
    "    tokens=word_tokenize(text)\n",
    "\n",
    "\n",
    "\n",
    "\n",
    "  #remove punctuations\n",
    "    punc=list(string.punctuation)\n",
    "\n",
    "  #stopwords and stemming\n",
    "    stop_word=stopwords.words(\"english\")\n",
    "    stemmer=PorterStemmer()\n",
    "    filtered_words=[]\n",
    "    for token in tokens:\n",
    "      if (token not in stop_word) and (token not in punc) :\n",
    "          word=stemmer.stem(token)\n",
    "          filtered_words.append(word)\n",
    "\n",
    "\n",
    "    text=\" \".join(filtered_words)\n",
    "\n",
    "    return text"
   ],
   "metadata": {
    "collapsed": false,
    "pycharm": {
     "name": "#%%\n"
    }
   }
  },
  {
   "cell_type": "code",
   "execution_count": 54,
   "outputs": [
    {
     "name": "stderr",
     "output_type": "stream",
     "text": [
      "C:\\Users\\NikAndish\\AppData\\Local\\Temp\\ipykernel_968\\1241293404.py:3: MarkupResemblesLocatorWarning: The input looks more like a filename than markup. You may want to open this file and pass the filehandle into Beautiful Soup.\n",
      "  soup=BeautifulSoup(text)\n"
     ]
    }
   ],
   "source": [
    "categorical_data[\"description\"]=categorical_data[\"description\"].apply(clean)"
   ],
   "metadata": {
    "collapsed": false,
    "pycharm": {
     "name": "#%%\n"
    }
   }
  },
  {
   "cell_type": "code",
   "execution_count": 55,
   "outputs": [],
   "source": [
    "vec=CountVectorizer()\n",
    "categorical_data_mat=vec.fit_transform(categorical_data[\"description\"])\n",
    "categorical_data_mat=categorical_data_mat.toarray()"
   ],
   "metadata": {
    "collapsed": false,
    "pycharm": {
     "name": "#%%\n"
    }
   }
  },
  {
   "cell_type": "code",
   "execution_count": 56,
   "outputs": [],
   "source": [
    "features=vec.get_feature_names_out()"
   ],
   "metadata": {
    "collapsed": false,
    "pycharm": {
     "name": "#%%\n"
    }
   }
  },
  {
   "cell_type": "code",
   "execution_count": 57,
   "outputs": [
    {
     "data": {
      "text/plain": "(23449, 44969)"
     },
     "execution_count": 57,
     "metadata": {},
     "output_type": "execute_result"
    }
   ],
   "source": [
    "len(features)\n",
    "categorical_data_mat.shape"
   ],
   "metadata": {
    "collapsed": false,
    "pycharm": {
     "name": "#%%\n"
    }
   }
  },
  {
   "cell_type": "markdown",
   "source": [
    "# numerical dataset"
   ],
   "metadata": {
    "collapsed": false,
    "pycharm": {
     "name": "#%% md\n"
    }
   }
  },
  {
   "cell_type": "code",
   "execution_count": 58,
   "outputs": [],
   "source": [
    "numerical_data = data.select_dtypes([\"float64\",\"int64\"])"
   ],
   "metadata": {
    "collapsed": false,
    "pycharm": {
     "name": "#%%\n"
    }
   }
  },
  {
   "cell_type": "code",
   "execution_count": 59,
   "outputs": [],
   "source": [
    "numerical_data[\"duration_ms\"]=numerical_data[\"duration_ms\"]/60000\n"
   ],
   "metadata": {
    "collapsed": false,
    "pycharm": {
     "name": "#%%\n"
    }
   }
  },
  {
   "cell_type": "code",
   "execution_count": 60,
   "outputs": [],
   "source": [
    "\n",
    "scaler=StandardScaler()\n",
    "numerical_data=scaler.fit_transform(numerical_data)\n",
    "numerical_data=pd.DataFrame(numerical_data)\n",
    "norm=Normalizer(norm=\"l2\")\n",
    "numerical_data=norm.fit_transform(numerical_data)"
   ],
   "metadata": {
    "collapsed": false,
    "pycharm": {
     "name": "#%%\n"
    }
   }
  },
  {
   "cell_type": "code",
   "execution_count": 61,
   "outputs": [
    {
     "data": {
      "text/plain": "                 0             1             2             3             4   \\\ncount  23449.000000  23449.000000  23449.000000  23449.000000  23449.000000   \nmean       0.009141      0.013048      0.017732     -0.000146      0.024645   \nstd        0.298749      0.281817      0.270367      0.304008      0.258867   \nmin       -0.736551     -0.796255     -0.777393     -0.719985     -0.914120   \n25%       -0.216635     -0.188248     -0.196455     -0.282069     -0.142022   \n50%        0.037238      0.035365      0.040803      0.039426      0.057705   \n75%        0.239850      0.223998      0.243138      0.252183      0.220126   \nmax        0.738870      0.745852      0.696681      0.747516      0.679523   \n\n                 5             6             7             8             9   \\\ncount  23449.000000  23449.000000  23449.000000  23449.000000  23449.000000   \nmean       0.003371     -0.019350     -0.022565     -0.030964     -0.017370   \nstd        0.316236      0.266439      0.262023      0.231633      0.258471   \nmin       -0.714491     -0.471250     -0.517032     -0.279917     -0.515800   \n25%       -0.330749     -0.200285     -0.213234     -0.137669     -0.194291   \n50%        0.188754     -0.122106     -0.130098     -0.115346     -0.111253   \n75%        0.280777      0.083105      0.115439     -0.083520      0.113876   \nmax        0.615844      0.937662      0.829024      0.894179      0.923020   \n\n                 10            11            12  \ncount  23449.000000  23449.000000  23449.000000  \nmean       0.007478     -0.007053     -0.012472  \nstd        0.293647      0.284292      0.260929  \nmin       -0.795081     -0.762611     -0.753423  \n25%       -0.228201     -0.241680     -0.196809  \n50%        0.002369      0.011779     -0.050020  \n75%        0.238762      0.146407      0.138333  \nmax        0.739478      0.843832      0.910237  ",
      "text/html": "<div>\n<style scoped>\n    .dataframe tbody tr th:only-of-type {\n        vertical-align: middle;\n    }\n\n    .dataframe tbody tr th {\n        vertical-align: top;\n    }\n\n    .dataframe thead th {\n        text-align: right;\n    }\n</style>\n<table border=\"1\" class=\"dataframe\">\n  <thead>\n    <tr style=\"text-align: right;\">\n      <th></th>\n      <th>0</th>\n      <th>1</th>\n      <th>2</th>\n      <th>3</th>\n      <th>4</th>\n      <th>5</th>\n      <th>6</th>\n      <th>7</th>\n      <th>8</th>\n      <th>9</th>\n      <th>10</th>\n      <th>11</th>\n      <th>12</th>\n    </tr>\n  </thead>\n  <tbody>\n    <tr>\n      <th>count</th>\n      <td>23449.000000</td>\n      <td>23449.000000</td>\n      <td>23449.000000</td>\n      <td>23449.000000</td>\n      <td>23449.000000</td>\n      <td>23449.000000</td>\n      <td>23449.000000</td>\n      <td>23449.000000</td>\n      <td>23449.000000</td>\n      <td>23449.000000</td>\n      <td>23449.000000</td>\n      <td>23449.000000</td>\n      <td>23449.000000</td>\n    </tr>\n    <tr>\n      <th>mean</th>\n      <td>0.009141</td>\n      <td>0.013048</td>\n      <td>0.017732</td>\n      <td>-0.000146</td>\n      <td>0.024645</td>\n      <td>0.003371</td>\n      <td>-0.019350</td>\n      <td>-0.022565</td>\n      <td>-0.030964</td>\n      <td>-0.017370</td>\n      <td>0.007478</td>\n      <td>-0.007053</td>\n      <td>-0.012472</td>\n    </tr>\n    <tr>\n      <th>std</th>\n      <td>0.298749</td>\n      <td>0.281817</td>\n      <td>0.270367</td>\n      <td>0.304008</td>\n      <td>0.258867</td>\n      <td>0.316236</td>\n      <td>0.266439</td>\n      <td>0.262023</td>\n      <td>0.231633</td>\n      <td>0.258471</td>\n      <td>0.293647</td>\n      <td>0.284292</td>\n      <td>0.260929</td>\n    </tr>\n    <tr>\n      <th>min</th>\n      <td>-0.736551</td>\n      <td>-0.796255</td>\n      <td>-0.777393</td>\n      <td>-0.719985</td>\n      <td>-0.914120</td>\n      <td>-0.714491</td>\n      <td>-0.471250</td>\n      <td>-0.517032</td>\n      <td>-0.279917</td>\n      <td>-0.515800</td>\n      <td>-0.795081</td>\n      <td>-0.762611</td>\n      <td>-0.753423</td>\n    </tr>\n    <tr>\n      <th>25%</th>\n      <td>-0.216635</td>\n      <td>-0.188248</td>\n      <td>-0.196455</td>\n      <td>-0.282069</td>\n      <td>-0.142022</td>\n      <td>-0.330749</td>\n      <td>-0.200285</td>\n      <td>-0.213234</td>\n      <td>-0.137669</td>\n      <td>-0.194291</td>\n      <td>-0.228201</td>\n      <td>-0.241680</td>\n      <td>-0.196809</td>\n    </tr>\n    <tr>\n      <th>50%</th>\n      <td>0.037238</td>\n      <td>0.035365</td>\n      <td>0.040803</td>\n      <td>0.039426</td>\n      <td>0.057705</td>\n      <td>0.188754</td>\n      <td>-0.122106</td>\n      <td>-0.130098</td>\n      <td>-0.115346</td>\n      <td>-0.111253</td>\n      <td>0.002369</td>\n      <td>0.011779</td>\n      <td>-0.050020</td>\n    </tr>\n    <tr>\n      <th>75%</th>\n      <td>0.239850</td>\n      <td>0.223998</td>\n      <td>0.243138</td>\n      <td>0.252183</td>\n      <td>0.220126</td>\n      <td>0.280777</td>\n      <td>0.083105</td>\n      <td>0.115439</td>\n      <td>-0.083520</td>\n      <td>0.113876</td>\n      <td>0.238762</td>\n      <td>0.146407</td>\n      <td>0.138333</td>\n    </tr>\n    <tr>\n      <th>max</th>\n      <td>0.738870</td>\n      <td>0.745852</td>\n      <td>0.696681</td>\n      <td>0.747516</td>\n      <td>0.679523</td>\n      <td>0.615844</td>\n      <td>0.937662</td>\n      <td>0.829024</td>\n      <td>0.894179</td>\n      <td>0.923020</td>\n      <td>0.739478</td>\n      <td>0.843832</td>\n      <td>0.910237</td>\n    </tr>\n  </tbody>\n</table>\n</div>"
     },
     "execution_count": 61,
     "metadata": {},
     "output_type": "execute_result"
    }
   ],
   "source": [
    "numerical_data=pd.DataFrame(numerical_data)\n",
    "numerical_data.describe()"
   ],
   "metadata": {
    "collapsed": false,
    "pycharm": {
     "name": "#%%\n"
    }
   }
  },
  {
   "cell_type": "code",
   "execution_count": 62,
   "outputs": [
    {
     "data": {
      "text/plain": "(23449, 13)"
     },
     "execution_count": 62,
     "metadata": {},
     "output_type": "execute_result"
    }
   ],
   "source": [
    "numerical_data_mat=numerical_data.to_numpy()\n",
    "numerical_data_mat.shape\n",
    "\n"
   ],
   "metadata": {
    "collapsed": false,
    "pycharm": {
     "name": "#%%\n"
    }
   }
  },
  {
   "cell_type": "code",
   "execution_count": 63,
   "outputs": [],
   "source": [
    "final_data=np.concatenate([numerical_data_mat,categorical_data_mat],axis=1)"
   ],
   "metadata": {
    "collapsed": false,
    "pycharm": {
     "name": "#%%\n"
    }
   }
  },
  {
   "cell_type": "code",
   "execution_count": 147,
   "outputs": [],
   "source": [],
   "metadata": {
    "collapsed": false,
    "pycharm": {
     "name": "#%%\n"
    }
   }
  },
  {
   "cell_type": "code",
   "execution_count": 23,
   "outputs": [],
   "source": [],
   "metadata": {
    "collapsed": false,
    "pycharm": {
     "name": "#%%\n"
    }
   }
  },
  {
   "cell_type": "code",
   "execution_count": 70,
   "outputs": [],
   "source": [],
   "metadata": {
    "collapsed": false,
    "pycharm": {
     "name": "#%%\n"
    }
   }
  },
  {
   "cell_type": "code",
   "execution_count": 34,
   "outputs": [],
   "source": [],
   "metadata": {
    "collapsed": false,
    "pycharm": {
     "name": "#%%\n"
    }
   }
  },
  {
   "cell_type": "code",
   "execution_count": 36,
   "outputs": [],
   "source": [],
   "metadata": {
    "collapsed": false,
    "pycharm": {
     "name": "#%%\n"
    }
   }
  },
  {
   "cell_type": "code",
   "execution_count": 69,
   "outputs": [],
   "source": [],
   "metadata": {
    "collapsed": false,
    "pycharm": {
     "name": "#%%\n"
    }
   }
  },
  {
   "cell_type": "code",
   "execution_count": null,
   "outputs": [],
   "source": [],
   "metadata": {
    "collapsed": false,
    "pycharm": {
     "name": "#%%\n"
    }
   }
  }
 ],
 "metadata": {
  "kernelspec": {
   "display_name": "Python 3",
   "language": "python",
   "name": "python3"
  },
  "language_info": {
   "codemirror_mode": {
    "name": "ipython",
    "version": 2
   },
   "file_extension": ".py",
   "mimetype": "text/x-python",
   "name": "python",
   "nbconvert_exporter": "python",
   "pygments_lexer": "ipython2",
   "version": "2.7.6"
  }
 },
 "nbformat": 4,
 "nbformat_minor": 0
}