{
 "cells": [
  {
   "cell_type": "markdown",
   "metadata": {
    "pycharm": {
     "name": "#%% md\n"
    }
   },
   "source": [
    "https://www.kaggle.com/datasets/joebeachcapital/30000-spotify-songs/data?select=spotify_songs.csv"
   ]
  },
  {
   "cell_type": "code",
   "execution_count": 42,
   "metadata": {
    "id": "IP6ZxgYEZJ7j",
    "pycharm": {
     "name": "#%%\n"
    }
   },
   "outputs": [],
   "source": [
    "import numpy as np\n",
    "import pandas as pd\n",
    "import string\n",
    "from bs4 import BeautifulSoup\n",
    "from sklearn.preprocessing import LabelEncoder\n",
    "from sklearn.model_selection import train_test_split\n",
    "from sklearn.preprocessing import StandardScaler ,Normalizer\n",
    "from tensorflow.keras.preprocessing.text import Tokenizer\n",
    "import tensorflow as tf\n",
    "from tensorflow.keras.preprocessing.sequence import pad_sequences\n",
    "from tensorflow.keras.layers import Embedding,Conv1D,MaxPool1D,Flatten,Dropout,Dense\n",
    "from tensorflow.keras.models import Sequential"
   ]
  },
  {
   "cell_type": "code",
   "execution_count": 43,
   "metadata": {
    "colab": {
     "base_uri": "https://localhost:8080/",
     "height": 930
    },
    "id": "13u0VeSkZSjD",
    "outputId": "d2723e2a-f39d-4e87-f1c6-ecb4bb6bfd7f",
    "pycharm": {
     "name": "#%%\n"
    }
   },
   "outputs": [
    {
     "data": {
      "text/html": [
       "<div>\n",
       "<style scoped>\n",
       "    .dataframe tbody tr th:only-of-type {\n",
       "        vertical-align: middle;\n",
       "    }\n",
       "\n",
       "    .dataframe tbody tr th {\n",
       "        vertical-align: top;\n",
       "    }\n",
       "\n",
       "    .dataframe thead th {\n",
       "        text-align: right;\n",
       "    }\n",
       "</style>\n",
       "<table border=\"1\" class=\"dataframe\">\n",
       "  <thead>\n",
       "    <tr style=\"text-align: right;\">\n",
       "      <th></th>\n",
       "      <th>track_id</th>\n",
       "      <th>track_name</th>\n",
       "      <th>track_artist</th>\n",
       "      <th>track_popularity</th>\n",
       "      <th>track_album_id</th>\n",
       "      <th>track_album_name</th>\n",
       "      <th>track_album_release_date</th>\n",
       "      <th>playlist_name</th>\n",
       "      <th>playlist_id</th>\n",
       "      <th>playlist_genre</th>\n",
       "      <th>...</th>\n",
       "      <th>key</th>\n",
       "      <th>loudness</th>\n",
       "      <th>mode</th>\n",
       "      <th>speechiness</th>\n",
       "      <th>acousticness</th>\n",
       "      <th>instrumentalness</th>\n",
       "      <th>liveness</th>\n",
       "      <th>valence</th>\n",
       "      <th>tempo</th>\n",
       "      <th>duration_ms</th>\n",
       "    </tr>\n",
       "  </thead>\n",
       "  <tbody>\n",
       "    <tr>\n",
       "      <th>0</th>\n",
       "      <td>6f807x0ima9a1j3VPbc7VN</td>\n",
       "      <td>I Don't Care (with Justin Bieber) - Loud Luxur...</td>\n",
       "      <td>Ed Sheeran</td>\n",
       "      <td>66</td>\n",
       "      <td>2oCs0DGTsRO98Gh5ZSl2Cx</td>\n",
       "      <td>I Don't Care (with Justin Bieber) [Loud Luxury...</td>\n",
       "      <td>2019-06-14</td>\n",
       "      <td>Pop Remix</td>\n",
       "      <td>37i9dQZF1DXcZDD7cfEKhW</td>\n",
       "      <td>pop</td>\n",
       "      <td>...</td>\n",
       "      <td>6</td>\n",
       "      <td>-2.634</td>\n",
       "      <td>1</td>\n",
       "      <td>0.0583</td>\n",
       "      <td>0.102000</td>\n",
       "      <td>0.000000</td>\n",
       "      <td>0.0653</td>\n",
       "      <td>0.5180</td>\n",
       "      <td>122.036</td>\n",
       "      <td>194754</td>\n",
       "    </tr>\n",
       "    <tr>\n",
       "      <th>1</th>\n",
       "      <td>0r7CVbZTWZgbTCYdfa2P31</td>\n",
       "      <td>Memories - Dillon Francis Remix</td>\n",
       "      <td>Maroon 5</td>\n",
       "      <td>67</td>\n",
       "      <td>63rPSO264uRjW1X5E6cWv6</td>\n",
       "      <td>Memories (Dillon Francis Remix)</td>\n",
       "      <td>2019-12-13</td>\n",
       "      <td>Pop Remix</td>\n",
       "      <td>37i9dQZF1DXcZDD7cfEKhW</td>\n",
       "      <td>pop</td>\n",
       "      <td>...</td>\n",
       "      <td>11</td>\n",
       "      <td>-4.969</td>\n",
       "      <td>1</td>\n",
       "      <td>0.0373</td>\n",
       "      <td>0.072400</td>\n",
       "      <td>0.004210</td>\n",
       "      <td>0.3570</td>\n",
       "      <td>0.6930</td>\n",
       "      <td>99.972</td>\n",
       "      <td>162600</td>\n",
       "    </tr>\n",
       "    <tr>\n",
       "      <th>2</th>\n",
       "      <td>1z1Hg7Vb0AhHDiEmnDE79l</td>\n",
       "      <td>All the Time - Don Diablo Remix</td>\n",
       "      <td>Zara Larsson</td>\n",
       "      <td>70</td>\n",
       "      <td>1HoSmj2eLcsrR0vE9gThr4</td>\n",
       "      <td>All the Time (Don Diablo Remix)</td>\n",
       "      <td>2019-07-05</td>\n",
       "      <td>Pop Remix</td>\n",
       "      <td>37i9dQZF1DXcZDD7cfEKhW</td>\n",
       "      <td>pop</td>\n",
       "      <td>...</td>\n",
       "      <td>1</td>\n",
       "      <td>-3.432</td>\n",
       "      <td>0</td>\n",
       "      <td>0.0742</td>\n",
       "      <td>0.079400</td>\n",
       "      <td>0.000023</td>\n",
       "      <td>0.1100</td>\n",
       "      <td>0.6130</td>\n",
       "      <td>124.008</td>\n",
       "      <td>176616</td>\n",
       "    </tr>\n",
       "    <tr>\n",
       "      <th>3</th>\n",
       "      <td>75FpbthrwQmzHlBJLuGdC7</td>\n",
       "      <td>Call You Mine - Keanu Silva Remix</td>\n",
       "      <td>The Chainsmokers</td>\n",
       "      <td>60</td>\n",
       "      <td>1nqYsOef1yKKuGOVchbsk6</td>\n",
       "      <td>Call You Mine - The Remixes</td>\n",
       "      <td>2019-07-19</td>\n",
       "      <td>Pop Remix</td>\n",
       "      <td>37i9dQZF1DXcZDD7cfEKhW</td>\n",
       "      <td>pop</td>\n",
       "      <td>...</td>\n",
       "      <td>7</td>\n",
       "      <td>-3.778</td>\n",
       "      <td>1</td>\n",
       "      <td>0.1020</td>\n",
       "      <td>0.028700</td>\n",
       "      <td>0.000009</td>\n",
       "      <td>0.2040</td>\n",
       "      <td>0.2770</td>\n",
       "      <td>121.956</td>\n",
       "      <td>169093</td>\n",
       "    </tr>\n",
       "    <tr>\n",
       "      <th>4</th>\n",
       "      <td>1e8PAfcKUYoKkxPhrHqw4x</td>\n",
       "      <td>Someone You Loved - Future Humans Remix</td>\n",
       "      <td>Lewis Capaldi</td>\n",
       "      <td>69</td>\n",
       "      <td>7m7vv9wlQ4i0LFuJiE2zsQ</td>\n",
       "      <td>Someone You Loved (Future Humans Remix)</td>\n",
       "      <td>2019-03-05</td>\n",
       "      <td>Pop Remix</td>\n",
       "      <td>37i9dQZF1DXcZDD7cfEKhW</td>\n",
       "      <td>pop</td>\n",
       "      <td>...</td>\n",
       "      <td>1</td>\n",
       "      <td>-4.672</td>\n",
       "      <td>1</td>\n",
       "      <td>0.0359</td>\n",
       "      <td>0.080300</td>\n",
       "      <td>0.000000</td>\n",
       "      <td>0.0833</td>\n",
       "      <td>0.7250</td>\n",
       "      <td>123.976</td>\n",
       "      <td>189052</td>\n",
       "    </tr>\n",
       "    <tr>\n",
       "      <th>...</th>\n",
       "      <td>...</td>\n",
       "      <td>...</td>\n",
       "      <td>...</td>\n",
       "      <td>...</td>\n",
       "      <td>...</td>\n",
       "      <td>...</td>\n",
       "      <td>...</td>\n",
       "      <td>...</td>\n",
       "      <td>...</td>\n",
       "      <td>...</td>\n",
       "      <td>...</td>\n",
       "      <td>...</td>\n",
       "      <td>...</td>\n",
       "      <td>...</td>\n",
       "      <td>...</td>\n",
       "      <td>...</td>\n",
       "      <td>...</td>\n",
       "      <td>...</td>\n",
       "      <td>...</td>\n",
       "      <td>...</td>\n",
       "      <td>...</td>\n",
       "    </tr>\n",
       "    <tr>\n",
       "      <th>32828</th>\n",
       "      <td>7bxnKAamR3snQ1VGLuVfC1</td>\n",
       "      <td>City Of Lights - Official Radio Edit</td>\n",
       "      <td>Lush &amp; Simon</td>\n",
       "      <td>42</td>\n",
       "      <td>2azRoBBWEEEYhqV6sb7JrT</td>\n",
       "      <td>City Of Lights (Vocal Mix)</td>\n",
       "      <td>2014-04-28</td>\n",
       "      <td>♥ EDM LOVE 2020</td>\n",
       "      <td>6jI1gFr6ANFtT8MmTvA2Ux</td>\n",
       "      <td>edm</td>\n",
       "      <td>...</td>\n",
       "      <td>2</td>\n",
       "      <td>-1.814</td>\n",
       "      <td>1</td>\n",
       "      <td>0.0936</td>\n",
       "      <td>0.076600</td>\n",
       "      <td>0.000000</td>\n",
       "      <td>0.0668</td>\n",
       "      <td>0.2100</td>\n",
       "      <td>128.170</td>\n",
       "      <td>204375</td>\n",
       "    </tr>\n",
       "    <tr>\n",
       "      <th>32829</th>\n",
       "      <td>5Aevni09Em4575077nkWHz</td>\n",
       "      <td>Closer - Sultan &amp; Ned Shepard Remix</td>\n",
       "      <td>Tegan and Sara</td>\n",
       "      <td>20</td>\n",
       "      <td>6kD6KLxj7s8eCE3ABvAyf5</td>\n",
       "      <td>Closer Remixed</td>\n",
       "      <td>2013-03-08</td>\n",
       "      <td>♥ EDM LOVE 2020</td>\n",
       "      <td>6jI1gFr6ANFtT8MmTvA2Ux</td>\n",
       "      <td>edm</td>\n",
       "      <td>...</td>\n",
       "      <td>0</td>\n",
       "      <td>-4.462</td>\n",
       "      <td>1</td>\n",
       "      <td>0.0420</td>\n",
       "      <td>0.001710</td>\n",
       "      <td>0.004270</td>\n",
       "      <td>0.3750</td>\n",
       "      <td>0.4000</td>\n",
       "      <td>128.041</td>\n",
       "      <td>353120</td>\n",
       "    </tr>\n",
       "    <tr>\n",
       "      <th>32830</th>\n",
       "      <td>7ImMqPP3Q1yfUHvsdn7wEo</td>\n",
       "      <td>Sweet Surrender - Radio Edit</td>\n",
       "      <td>Starkillers</td>\n",
       "      <td>14</td>\n",
       "      <td>0ltWNSY9JgxoIZO4VzuCa6</td>\n",
       "      <td>Sweet Surrender (Radio Edit)</td>\n",
       "      <td>2014-04-21</td>\n",
       "      <td>♥ EDM LOVE 2020</td>\n",
       "      <td>6jI1gFr6ANFtT8MmTvA2Ux</td>\n",
       "      <td>edm</td>\n",
       "      <td>...</td>\n",
       "      <td>6</td>\n",
       "      <td>-4.899</td>\n",
       "      <td>0</td>\n",
       "      <td>0.0481</td>\n",
       "      <td>0.108000</td>\n",
       "      <td>0.000001</td>\n",
       "      <td>0.1500</td>\n",
       "      <td>0.4360</td>\n",
       "      <td>127.989</td>\n",
       "      <td>210112</td>\n",
       "    </tr>\n",
       "    <tr>\n",
       "      <th>32831</th>\n",
       "      <td>2m69mhnfQ1Oq6lGtXuYhgX</td>\n",
       "      <td>Only For You - Maor Levi Remix</td>\n",
       "      <td>Mat Zo</td>\n",
       "      <td>15</td>\n",
       "      <td>1fGrOkHnHJcStl14zNx8Jy</td>\n",
       "      <td>Only For You (Remixes)</td>\n",
       "      <td>2014-01-01</td>\n",
       "      <td>♥ EDM LOVE 2020</td>\n",
       "      <td>6jI1gFr6ANFtT8MmTvA2Ux</td>\n",
       "      <td>edm</td>\n",
       "      <td>...</td>\n",
       "      <td>2</td>\n",
       "      <td>-3.361</td>\n",
       "      <td>1</td>\n",
       "      <td>0.1090</td>\n",
       "      <td>0.007920</td>\n",
       "      <td>0.127000</td>\n",
       "      <td>0.3430</td>\n",
       "      <td>0.3080</td>\n",
       "      <td>128.008</td>\n",
       "      <td>367432</td>\n",
       "    </tr>\n",
       "    <tr>\n",
       "      <th>32832</th>\n",
       "      <td>29zWqhca3zt5NsckZqDf6c</td>\n",
       "      <td>Typhoon - Original Mix</td>\n",
       "      <td>Julian Calor</td>\n",
       "      <td>27</td>\n",
       "      <td>0X3mUOm6MhxR7PzxG95rAo</td>\n",
       "      <td>Typhoon/Storm</td>\n",
       "      <td>2014-03-03</td>\n",
       "      <td>♥ EDM LOVE 2020</td>\n",
       "      <td>6jI1gFr6ANFtT8MmTvA2Ux</td>\n",
       "      <td>edm</td>\n",
       "      <td>...</td>\n",
       "      <td>5</td>\n",
       "      <td>-4.571</td>\n",
       "      <td>0</td>\n",
       "      <td>0.0385</td>\n",
       "      <td>0.000133</td>\n",
       "      <td>0.341000</td>\n",
       "      <td>0.7420</td>\n",
       "      <td>0.0894</td>\n",
       "      <td>127.984</td>\n",
       "      <td>337500</td>\n",
       "    </tr>\n",
       "  </tbody>\n",
       "</table>\n",
       "<p>32833 rows × 23 columns</p>\n",
       "</div>"
      ],
      "text/plain": [
       "                     track_id  \\\n",
       "0      6f807x0ima9a1j3VPbc7VN   \n",
       "1      0r7CVbZTWZgbTCYdfa2P31   \n",
       "2      1z1Hg7Vb0AhHDiEmnDE79l   \n",
       "3      75FpbthrwQmzHlBJLuGdC7   \n",
       "4      1e8PAfcKUYoKkxPhrHqw4x   \n",
       "...                       ...   \n",
       "32828  7bxnKAamR3snQ1VGLuVfC1   \n",
       "32829  5Aevni09Em4575077nkWHz   \n",
       "32830  7ImMqPP3Q1yfUHvsdn7wEo   \n",
       "32831  2m69mhnfQ1Oq6lGtXuYhgX   \n",
       "32832  29zWqhca3zt5NsckZqDf6c   \n",
       "\n",
       "                                              track_name      track_artist  \\\n",
       "0      I Don't Care (with Justin Bieber) - Loud Luxur...        Ed Sheeran   \n",
       "1                        Memories - Dillon Francis Remix          Maroon 5   \n",
       "2                        All the Time - Don Diablo Remix      Zara Larsson   \n",
       "3                      Call You Mine - Keanu Silva Remix  The Chainsmokers   \n",
       "4                Someone You Loved - Future Humans Remix     Lewis Capaldi   \n",
       "...                                                  ...               ...   \n",
       "32828               City Of Lights - Official Radio Edit      Lush & Simon   \n",
       "32829                Closer - Sultan & Ned Shepard Remix    Tegan and Sara   \n",
       "32830                       Sweet Surrender - Radio Edit       Starkillers   \n",
       "32831                     Only For You - Maor Levi Remix            Mat Zo   \n",
       "32832                             Typhoon - Original Mix      Julian Calor   \n",
       "\n",
       "       track_popularity          track_album_id  \\\n",
       "0                    66  2oCs0DGTsRO98Gh5ZSl2Cx   \n",
       "1                    67  63rPSO264uRjW1X5E6cWv6   \n",
       "2                    70  1HoSmj2eLcsrR0vE9gThr4   \n",
       "3                    60  1nqYsOef1yKKuGOVchbsk6   \n",
       "4                    69  7m7vv9wlQ4i0LFuJiE2zsQ   \n",
       "...                 ...                     ...   \n",
       "32828                42  2azRoBBWEEEYhqV6sb7JrT   \n",
       "32829                20  6kD6KLxj7s8eCE3ABvAyf5   \n",
       "32830                14  0ltWNSY9JgxoIZO4VzuCa6   \n",
       "32831                15  1fGrOkHnHJcStl14zNx8Jy   \n",
       "32832                27  0X3mUOm6MhxR7PzxG95rAo   \n",
       "\n",
       "                                        track_album_name  \\\n",
       "0      I Don't Care (with Justin Bieber) [Loud Luxury...   \n",
       "1                        Memories (Dillon Francis Remix)   \n",
       "2                        All the Time (Don Diablo Remix)   \n",
       "3                            Call You Mine - The Remixes   \n",
       "4                Someone You Loved (Future Humans Remix)   \n",
       "...                                                  ...   \n",
       "32828                         City Of Lights (Vocal Mix)   \n",
       "32829                                     Closer Remixed   \n",
       "32830                       Sweet Surrender (Radio Edit)   \n",
       "32831                             Only For You (Remixes)   \n",
       "32832                                      Typhoon/Storm   \n",
       "\n",
       "      track_album_release_date    playlist_name             playlist_id  \\\n",
       "0                   2019-06-14        Pop Remix  37i9dQZF1DXcZDD7cfEKhW   \n",
       "1                   2019-12-13        Pop Remix  37i9dQZF1DXcZDD7cfEKhW   \n",
       "2                   2019-07-05        Pop Remix  37i9dQZF1DXcZDD7cfEKhW   \n",
       "3                   2019-07-19        Pop Remix  37i9dQZF1DXcZDD7cfEKhW   \n",
       "4                   2019-03-05        Pop Remix  37i9dQZF1DXcZDD7cfEKhW   \n",
       "...                        ...              ...                     ...   \n",
       "32828               2014-04-28  ♥ EDM LOVE 2020  6jI1gFr6ANFtT8MmTvA2Ux   \n",
       "32829               2013-03-08  ♥ EDM LOVE 2020  6jI1gFr6ANFtT8MmTvA2Ux   \n",
       "32830               2014-04-21  ♥ EDM LOVE 2020  6jI1gFr6ANFtT8MmTvA2Ux   \n",
       "32831               2014-01-01  ♥ EDM LOVE 2020  6jI1gFr6ANFtT8MmTvA2Ux   \n",
       "32832               2014-03-03  ♥ EDM LOVE 2020  6jI1gFr6ANFtT8MmTvA2Ux   \n",
       "\n",
       "      playlist_genre  ... key  loudness  mode  speechiness  acousticness  \\\n",
       "0                pop  ...   6    -2.634     1       0.0583      0.102000   \n",
       "1                pop  ...  11    -4.969     1       0.0373      0.072400   \n",
       "2                pop  ...   1    -3.432     0       0.0742      0.079400   \n",
       "3                pop  ...   7    -3.778     1       0.1020      0.028700   \n",
       "4                pop  ...   1    -4.672     1       0.0359      0.080300   \n",
       "...              ...  ...  ..       ...   ...          ...           ...   \n",
       "32828            edm  ...   2    -1.814     1       0.0936      0.076600   \n",
       "32829            edm  ...   0    -4.462     1       0.0420      0.001710   \n",
       "32830            edm  ...   6    -4.899     0       0.0481      0.108000   \n",
       "32831            edm  ...   2    -3.361     1       0.1090      0.007920   \n",
       "32832            edm  ...   5    -4.571     0       0.0385      0.000133   \n",
       "\n",
       "       instrumentalness  liveness  valence    tempo  duration_ms  \n",
       "0              0.000000    0.0653   0.5180  122.036       194754  \n",
       "1              0.004210    0.3570   0.6930   99.972       162600  \n",
       "2              0.000023    0.1100   0.6130  124.008       176616  \n",
       "3              0.000009    0.2040   0.2770  121.956       169093  \n",
       "4              0.000000    0.0833   0.7250  123.976       189052  \n",
       "...                 ...       ...      ...      ...          ...  \n",
       "32828          0.000000    0.0668   0.2100  128.170       204375  \n",
       "32829          0.004270    0.3750   0.4000  128.041       353120  \n",
       "32830          0.000001    0.1500   0.4360  127.989       210112  \n",
       "32831          0.127000    0.3430   0.3080  128.008       367432  \n",
       "32832          0.341000    0.7420   0.0894  127.984       337500  \n",
       "\n",
       "[32833 rows x 23 columns]"
      ]
     },
     "execution_count": 43,
     "metadata": {},
     "output_type": "execute_result"
    }
   ],
   "source": [
    "data=pd.read_csv(\"spotify_songs.csv\")\n",
    "data"
   ]
  },
  {
   "cell_type": "code",
   "execution_count": 44,
   "metadata": {
    "colab": {
     "base_uri": "https://localhost:8080/"
    },
    "id": "UHqYTUKsZVWv",
    "outputId": "b51f10b8-9da0-4ab6-c103-788a917159ae",
    "pycharm": {
     "name": "#%%\n"
    }
   },
   "outputs": [
    {
     "name": "stdout",
     "output_type": "stream",
     "text": [
      "<class 'pandas.core.frame.DataFrame'>\n",
      "RangeIndex: 32833 entries, 0 to 32832\n",
      "Data columns (total 23 columns):\n",
      " #   Column                    Non-Null Count  Dtype  \n",
      "---  ------                    --------------  -----  \n",
      " 0   track_id                  32833 non-null  object \n",
      " 1   track_name                32828 non-null  object \n",
      " 2   track_artist              32828 non-null  object \n",
      " 3   track_popularity          32833 non-null  int64  \n",
      " 4   track_album_id            32833 non-null  object \n",
      " 5   track_album_name          32828 non-null  object \n",
      " 6   track_album_release_date  32833 non-null  object \n",
      " 7   playlist_name             32833 non-null  object \n",
      " 8   playlist_id               32833 non-null  object \n",
      " 9   playlist_genre            32833 non-null  object \n",
      " 10  playlist_subgenre         32833 non-null  object \n",
      " 11  danceability              32833 non-null  float64\n",
      " 12  energy                    32833 non-null  float64\n",
      " 13  key                       32833 non-null  int64  \n",
      " 14  loudness                  32833 non-null  float64\n",
      " 15  mode                      32833 non-null  int64  \n",
      " 16  speechiness               32833 non-null  float64\n",
      " 17  acousticness              32833 non-null  float64\n",
      " 18  instrumentalness          32833 non-null  float64\n",
      " 19  liveness                  32833 non-null  float64\n",
      " 20  valence                   32833 non-null  float64\n",
      " 21  tempo                     32833 non-null  float64\n",
      " 22  duration_ms               32833 non-null  int64  \n",
      "dtypes: float64(9), int64(4), object(10)\n",
      "memory usage: 5.8+ MB\n"
     ]
    }
   ],
   "source": [
    "data.info()"
   ]
  },
  {
   "cell_type": "code",
   "execution_count": 45,
   "metadata": {
    "id": "zoy3JfSHZVUk",
    "pycharm": {
     "name": "#%%\n"
    }
   },
   "outputs": [],
   "source": [
    "# these columns don't have any useful information,so we can drop them.\n",
    "data.drop([\"track_id\",\"track_album_id\",\"playlist_id\",\"track_album_release_date\"],axis=1,inplace=True)\n"
   ]
  },
  {
   "cell_type": "code",
   "execution_count": 46,
   "metadata": {
    "pycharm": {
     "name": "#%%\n"
    }
   },
   "outputs": [
    {
     "data": {
      "text/html": [
       "<div>\n",
       "<style scoped>\n",
       "    .dataframe tbody tr th:only-of-type {\n",
       "        vertical-align: middle;\n",
       "    }\n",
       "\n",
       "    .dataframe tbody tr th {\n",
       "        vertical-align: top;\n",
       "    }\n",
       "\n",
       "    .dataframe thead th {\n",
       "        text-align: right;\n",
       "    }\n",
       "</style>\n",
       "<table border=\"1\" class=\"dataframe\">\n",
       "  <thead>\n",
       "    <tr style=\"text-align: right;\">\n",
       "      <th></th>\n",
       "      <th>track_name</th>\n",
       "      <th>track_artist</th>\n",
       "      <th>track_popularity</th>\n",
       "      <th>track_album_name</th>\n",
       "      <th>playlist_name</th>\n",
       "      <th>playlist_genre</th>\n",
       "      <th>playlist_subgenre</th>\n",
       "      <th>danceability</th>\n",
       "      <th>energy</th>\n",
       "      <th>key</th>\n",
       "      <th>loudness</th>\n",
       "      <th>mode</th>\n",
       "      <th>speechiness</th>\n",
       "      <th>acousticness</th>\n",
       "      <th>instrumentalness</th>\n",
       "      <th>liveness</th>\n",
       "      <th>valence</th>\n",
       "      <th>tempo</th>\n",
       "      <th>duration_ms</th>\n",
       "    </tr>\n",
       "  </thead>\n",
       "  <tbody>\n",
       "    <tr>\n",
       "      <th>0</th>\n",
       "      <td>NaN</td>\n",
       "      <td>NaN</td>\n",
       "      <td>NaN</td>\n",
       "      <td>NaN</td>\n",
       "      <td>NaN</td>\n",
       "      <td>NaN</td>\n",
       "      <td>NaN</td>\n",
       "      <td>NaN</td>\n",
       "      <td>NaN</td>\n",
       "      <td>NaN</td>\n",
       "      <td>NaN</td>\n",
       "      <td>NaN</td>\n",
       "      <td>NaN</td>\n",
       "      <td>NaN</td>\n",
       "      <td>NaN</td>\n",
       "      <td>NaN</td>\n",
       "      <td>NaN</td>\n",
       "      <td>NaN</td>\n",
       "      <td>NaN</td>\n",
       "    </tr>\n",
       "    <tr>\n",
       "      <th>1</th>\n",
       "      <td>NaN</td>\n",
       "      <td>NaN</td>\n",
       "      <td>NaN</td>\n",
       "      <td>NaN</td>\n",
       "      <td>NaN</td>\n",
       "      <td>NaN</td>\n",
       "      <td>NaN</td>\n",
       "      <td>NaN</td>\n",
       "      <td>NaN</td>\n",
       "      <td>NaN</td>\n",
       "      <td>NaN</td>\n",
       "      <td>NaN</td>\n",
       "      <td>NaN</td>\n",
       "      <td>NaN</td>\n",
       "      <td>NaN</td>\n",
       "      <td>NaN</td>\n",
       "      <td>NaN</td>\n",
       "      <td>NaN</td>\n",
       "      <td>NaN</td>\n",
       "    </tr>\n",
       "    <tr>\n",
       "      <th>2</th>\n",
       "      <td>NaN</td>\n",
       "      <td>NaN</td>\n",
       "      <td>NaN</td>\n",
       "      <td>NaN</td>\n",
       "      <td>NaN</td>\n",
       "      <td>NaN</td>\n",
       "      <td>NaN</td>\n",
       "      <td>NaN</td>\n",
       "      <td>NaN</td>\n",
       "      <td>NaN</td>\n",
       "      <td>NaN</td>\n",
       "      <td>NaN</td>\n",
       "      <td>NaN</td>\n",
       "      <td>NaN</td>\n",
       "      <td>NaN</td>\n",
       "      <td>NaN</td>\n",
       "      <td>NaN</td>\n",
       "      <td>NaN</td>\n",
       "      <td>NaN</td>\n",
       "    </tr>\n",
       "    <tr>\n",
       "      <th>3</th>\n",
       "      <td>NaN</td>\n",
       "      <td>NaN</td>\n",
       "      <td>NaN</td>\n",
       "      <td>NaN</td>\n",
       "      <td>NaN</td>\n",
       "      <td>NaN</td>\n",
       "      <td>NaN</td>\n",
       "      <td>NaN</td>\n",
       "      <td>NaN</td>\n",
       "      <td>NaN</td>\n",
       "      <td>NaN</td>\n",
       "      <td>NaN</td>\n",
       "      <td>NaN</td>\n",
       "      <td>NaN</td>\n",
       "      <td>NaN</td>\n",
       "      <td>NaN</td>\n",
       "      <td>NaN</td>\n",
       "      <td>NaN</td>\n",
       "      <td>NaN</td>\n",
       "    </tr>\n",
       "    <tr>\n",
       "      <th>4</th>\n",
       "      <td>NaN</td>\n",
       "      <td>NaN</td>\n",
       "      <td>NaN</td>\n",
       "      <td>NaN</td>\n",
       "      <td>NaN</td>\n",
       "      <td>NaN</td>\n",
       "      <td>NaN</td>\n",
       "      <td>NaN</td>\n",
       "      <td>NaN</td>\n",
       "      <td>NaN</td>\n",
       "      <td>NaN</td>\n",
       "      <td>NaN</td>\n",
       "      <td>NaN</td>\n",
       "      <td>NaN</td>\n",
       "      <td>NaN</td>\n",
       "      <td>NaN</td>\n",
       "      <td>NaN</td>\n",
       "      <td>NaN</td>\n",
       "      <td>NaN</td>\n",
       "    </tr>\n",
       "    <tr>\n",
       "      <th>...</th>\n",
       "      <td>...</td>\n",
       "      <td>...</td>\n",
       "      <td>...</td>\n",
       "      <td>...</td>\n",
       "      <td>...</td>\n",
       "      <td>...</td>\n",
       "      <td>...</td>\n",
       "      <td>...</td>\n",
       "      <td>...</td>\n",
       "      <td>...</td>\n",
       "      <td>...</td>\n",
       "      <td>...</td>\n",
       "      <td>...</td>\n",
       "      <td>...</td>\n",
       "      <td>...</td>\n",
       "      <td>...</td>\n",
       "      <td>...</td>\n",
       "      <td>...</td>\n",
       "      <td>...</td>\n",
       "    </tr>\n",
       "    <tr>\n",
       "      <th>32828</th>\n",
       "      <td>NaN</td>\n",
       "      <td>NaN</td>\n",
       "      <td>NaN</td>\n",
       "      <td>NaN</td>\n",
       "      <td>NaN</td>\n",
       "      <td>NaN</td>\n",
       "      <td>NaN</td>\n",
       "      <td>NaN</td>\n",
       "      <td>NaN</td>\n",
       "      <td>NaN</td>\n",
       "      <td>NaN</td>\n",
       "      <td>NaN</td>\n",
       "      <td>NaN</td>\n",
       "      <td>NaN</td>\n",
       "      <td>NaN</td>\n",
       "      <td>NaN</td>\n",
       "      <td>NaN</td>\n",
       "      <td>NaN</td>\n",
       "      <td>NaN</td>\n",
       "    </tr>\n",
       "    <tr>\n",
       "      <th>32829</th>\n",
       "      <td>NaN</td>\n",
       "      <td>NaN</td>\n",
       "      <td>NaN</td>\n",
       "      <td>NaN</td>\n",
       "      <td>NaN</td>\n",
       "      <td>NaN</td>\n",
       "      <td>NaN</td>\n",
       "      <td>NaN</td>\n",
       "      <td>NaN</td>\n",
       "      <td>NaN</td>\n",
       "      <td>NaN</td>\n",
       "      <td>NaN</td>\n",
       "      <td>NaN</td>\n",
       "      <td>NaN</td>\n",
       "      <td>NaN</td>\n",
       "      <td>NaN</td>\n",
       "      <td>NaN</td>\n",
       "      <td>NaN</td>\n",
       "      <td>NaN</td>\n",
       "    </tr>\n",
       "    <tr>\n",
       "      <th>32830</th>\n",
       "      <td>NaN</td>\n",
       "      <td>NaN</td>\n",
       "      <td>NaN</td>\n",
       "      <td>NaN</td>\n",
       "      <td>NaN</td>\n",
       "      <td>NaN</td>\n",
       "      <td>NaN</td>\n",
       "      <td>NaN</td>\n",
       "      <td>NaN</td>\n",
       "      <td>NaN</td>\n",
       "      <td>NaN</td>\n",
       "      <td>NaN</td>\n",
       "      <td>NaN</td>\n",
       "      <td>NaN</td>\n",
       "      <td>NaN</td>\n",
       "      <td>NaN</td>\n",
       "      <td>NaN</td>\n",
       "      <td>NaN</td>\n",
       "      <td>NaN</td>\n",
       "    </tr>\n",
       "    <tr>\n",
       "      <th>32831</th>\n",
       "      <td>NaN</td>\n",
       "      <td>NaN</td>\n",
       "      <td>NaN</td>\n",
       "      <td>NaN</td>\n",
       "      <td>NaN</td>\n",
       "      <td>NaN</td>\n",
       "      <td>NaN</td>\n",
       "      <td>NaN</td>\n",
       "      <td>NaN</td>\n",
       "      <td>NaN</td>\n",
       "      <td>NaN</td>\n",
       "      <td>NaN</td>\n",
       "      <td>NaN</td>\n",
       "      <td>NaN</td>\n",
       "      <td>NaN</td>\n",
       "      <td>NaN</td>\n",
       "      <td>NaN</td>\n",
       "      <td>NaN</td>\n",
       "      <td>NaN</td>\n",
       "    </tr>\n",
       "    <tr>\n",
       "      <th>32832</th>\n",
       "      <td>NaN</td>\n",
       "      <td>NaN</td>\n",
       "      <td>NaN</td>\n",
       "      <td>NaN</td>\n",
       "      <td>NaN</td>\n",
       "      <td>NaN</td>\n",
       "      <td>NaN</td>\n",
       "      <td>NaN</td>\n",
       "      <td>NaN</td>\n",
       "      <td>NaN</td>\n",
       "      <td>NaN</td>\n",
       "      <td>NaN</td>\n",
       "      <td>NaN</td>\n",
       "      <td>NaN</td>\n",
       "      <td>NaN</td>\n",
       "      <td>NaN</td>\n",
       "      <td>NaN</td>\n",
       "      <td>NaN</td>\n",
       "      <td>NaN</td>\n",
       "    </tr>\n",
       "  </tbody>\n",
       "</table>\n",
       "<p>32833 rows × 19 columns</p>\n",
       "</div>"
      ],
      "text/plain": [
       "      track_name track_artist  track_popularity track_album_name  \\\n",
       "0            NaN          NaN               NaN              NaN   \n",
       "1            NaN          NaN               NaN              NaN   \n",
       "2            NaN          NaN               NaN              NaN   \n",
       "3            NaN          NaN               NaN              NaN   \n",
       "4            NaN          NaN               NaN              NaN   \n",
       "...          ...          ...               ...              ...   \n",
       "32828        NaN          NaN               NaN              NaN   \n",
       "32829        NaN          NaN               NaN              NaN   \n",
       "32830        NaN          NaN               NaN              NaN   \n",
       "32831        NaN          NaN               NaN              NaN   \n",
       "32832        NaN          NaN               NaN              NaN   \n",
       "\n",
       "      playlist_name playlist_genre playlist_subgenre  danceability  energy  \\\n",
       "0               NaN            NaN               NaN           NaN     NaN   \n",
       "1               NaN            NaN               NaN           NaN     NaN   \n",
       "2               NaN            NaN               NaN           NaN     NaN   \n",
       "3               NaN            NaN               NaN           NaN     NaN   \n",
       "4               NaN            NaN               NaN           NaN     NaN   \n",
       "...             ...            ...               ...           ...     ...   \n",
       "32828           NaN            NaN               NaN           NaN     NaN   \n",
       "32829           NaN            NaN               NaN           NaN     NaN   \n",
       "32830           NaN            NaN               NaN           NaN     NaN   \n",
       "32831           NaN            NaN               NaN           NaN     NaN   \n",
       "32832           NaN            NaN               NaN           NaN     NaN   \n",
       "\n",
       "       key  loudness  mode  speechiness  acousticness  instrumentalness  \\\n",
       "0      NaN       NaN   NaN          NaN           NaN               NaN   \n",
       "1      NaN       NaN   NaN          NaN           NaN               NaN   \n",
       "2      NaN       NaN   NaN          NaN           NaN               NaN   \n",
       "3      NaN       NaN   NaN          NaN           NaN               NaN   \n",
       "4      NaN       NaN   NaN          NaN           NaN               NaN   \n",
       "...    ...       ...   ...          ...           ...               ...   \n",
       "32828  NaN       NaN   NaN          NaN           NaN               NaN   \n",
       "32829  NaN       NaN   NaN          NaN           NaN               NaN   \n",
       "32830  NaN       NaN   NaN          NaN           NaN               NaN   \n",
       "32831  NaN       NaN   NaN          NaN           NaN               NaN   \n",
       "32832  NaN       NaN   NaN          NaN           NaN               NaN   \n",
       "\n",
       "       liveness  valence  tempo  duration_ms  \n",
       "0           NaN      NaN    NaN          NaN  \n",
       "1           NaN      NaN    NaN          NaN  \n",
       "2           NaN      NaN    NaN          NaN  \n",
       "3           NaN      NaN    NaN          NaN  \n",
       "4           NaN      NaN    NaN          NaN  \n",
       "...         ...      ...    ...          ...  \n",
       "32828       NaN      NaN    NaN          NaN  \n",
       "32829       NaN      NaN    NaN          NaN  \n",
       "32830       NaN      NaN    NaN          NaN  \n",
       "32831       NaN      NaN    NaN          NaN  \n",
       "32832       NaN      NaN    NaN          NaN  \n",
       "\n",
       "[32833 rows x 19 columns]"
      ]
     },
     "execution_count": 46,
     "metadata": {},
     "output_type": "execute_result"
    }
   ],
   "source": [
    "# samples with null values. As you can see all of features of these samples have null values. so we should drop them.\n",
    "data[data.isnull()]"
   ]
  },
  {
   "cell_type": "code",
   "execution_count": 47,
   "metadata": {
    "colab": {
     "base_uri": "https://localhost:8080/"
    },
    "id": "aeLYMpIgZVRw",
    "outputId": "b6c2e737-4199-4dcd-e5cb-50f990a5260d",
    "pycharm": {
     "name": "#%%\n"
    }
   },
   "outputs": [],
   "source": [
    "# drop null values.\n",
    "data.dropna(inplace=True)"
   ]
  },
  {
   "cell_type": "code",
   "execution_count": 48,
   "metadata": {
    "colab": {
     "base_uri": "https://localhost:8080/"
    },
    "id": "smDZDz3mZVPn",
    "outputId": "45e20858-fde3-42d3-d636-f29ebc8d37b9",
    "pycharm": {
     "name": "#%%\n"
    }
   },
   "outputs": [
    {
     "data": {
      "text/plain": [
       "(23449, 19)"
      ]
     },
     "execution_count": 48,
     "metadata": {},
     "output_type": "execute_result"
    }
   ],
   "source": [
    "# drop duplicated rows\n",
    "data.drop_duplicates(keep=\"first\",inplace=True)\n",
    "data.drop_duplicates(subset=[\"track_name\"],inplace=True)\n",
    "data.shape"
   ]
  },
  {
   "cell_type": "markdown",
   "metadata": {
    "pycharm": {
     "name": "#%% md\n"
    }
   },
   "source": [
    "# Splitting dataset into categorical and numerical"
   ]
  },
  {
   "cell_type": "markdown",
   "metadata": {
    "pycharm": {
     "name": "#%% md\n"
    }
   },
   "source": [
    "# categorical dataset"
   ]
  },
  {
   "cell_type": "code",
   "execution_count": 49,
   "metadata": {
    "colab": {
     "base_uri": "https://localhost:8080/",
     "height": 615
    },
    "id": "WWs9-rvIZVKq",
    "outputId": "48419f5a-4a91-44e4-92a0-b608f6b8a63a",
    "pycharm": {
     "name": "#%%\n"
    }
   },
   "outputs": [
    {
     "data": {
      "text/html": [
       "<div>\n",
       "<style scoped>\n",
       "    .dataframe tbody tr th:only-of-type {\n",
       "        vertical-align: middle;\n",
       "    }\n",
       "\n",
       "    .dataframe tbody tr th {\n",
       "        vertical-align: top;\n",
       "    }\n",
       "\n",
       "    .dataframe thead th {\n",
       "        text-align: right;\n",
       "    }\n",
       "</style>\n",
       "<table border=\"1\" class=\"dataframe\">\n",
       "  <thead>\n",
       "    <tr style=\"text-align: right;\">\n",
       "      <th></th>\n",
       "      <th>track_name</th>\n",
       "      <th>track_artist</th>\n",
       "      <th>track_album_name</th>\n",
       "      <th>playlist_name</th>\n",
       "      <th>playlist_genre</th>\n",
       "      <th>playlist_subgenre</th>\n",
       "    </tr>\n",
       "  </thead>\n",
       "  <tbody>\n",
       "    <tr>\n",
       "      <th>0</th>\n",
       "      <td>I Don't Care (with Justin Bieber) - Loud Luxur...</td>\n",
       "      <td>Ed Sheeran</td>\n",
       "      <td>I Don't Care (with Justin Bieber) [Loud Luxury...</td>\n",
       "      <td>Pop Remix</td>\n",
       "      <td>pop</td>\n",
       "      <td>dance pop</td>\n",
       "    </tr>\n",
       "    <tr>\n",
       "      <th>1</th>\n",
       "      <td>Memories - Dillon Francis Remix</td>\n",
       "      <td>Maroon 5</td>\n",
       "      <td>Memories (Dillon Francis Remix)</td>\n",
       "      <td>Pop Remix</td>\n",
       "      <td>pop</td>\n",
       "      <td>dance pop</td>\n",
       "    </tr>\n",
       "    <tr>\n",
       "      <th>2</th>\n",
       "      <td>All the Time - Don Diablo Remix</td>\n",
       "      <td>Zara Larsson</td>\n",
       "      <td>All the Time (Don Diablo Remix)</td>\n",
       "      <td>Pop Remix</td>\n",
       "      <td>pop</td>\n",
       "      <td>dance pop</td>\n",
       "    </tr>\n",
       "    <tr>\n",
       "      <th>3</th>\n",
       "      <td>Call You Mine - Keanu Silva Remix</td>\n",
       "      <td>The Chainsmokers</td>\n",
       "      <td>Call You Mine - The Remixes</td>\n",
       "      <td>Pop Remix</td>\n",
       "      <td>pop</td>\n",
       "      <td>dance pop</td>\n",
       "    </tr>\n",
       "    <tr>\n",
       "      <th>4</th>\n",
       "      <td>Someone You Loved - Future Humans Remix</td>\n",
       "      <td>Lewis Capaldi</td>\n",
       "      <td>Someone You Loved (Future Humans Remix)</td>\n",
       "      <td>Pop Remix</td>\n",
       "      <td>pop</td>\n",
       "      <td>dance pop</td>\n",
       "    </tr>\n",
       "    <tr>\n",
       "      <th>...</th>\n",
       "      <td>...</td>\n",
       "      <td>...</td>\n",
       "      <td>...</td>\n",
       "      <td>...</td>\n",
       "      <td>...</td>\n",
       "      <td>...</td>\n",
       "    </tr>\n",
       "    <tr>\n",
       "      <th>32828</th>\n",
       "      <td>City Of Lights - Official Radio Edit</td>\n",
       "      <td>Lush &amp; Simon</td>\n",
       "      <td>City Of Lights (Vocal Mix)</td>\n",
       "      <td>♥ EDM LOVE 2020</td>\n",
       "      <td>edm</td>\n",
       "      <td>progressive electro house</td>\n",
       "    </tr>\n",
       "    <tr>\n",
       "      <th>32829</th>\n",
       "      <td>Closer - Sultan &amp; Ned Shepard Remix</td>\n",
       "      <td>Tegan and Sara</td>\n",
       "      <td>Closer Remixed</td>\n",
       "      <td>♥ EDM LOVE 2020</td>\n",
       "      <td>edm</td>\n",
       "      <td>progressive electro house</td>\n",
       "    </tr>\n",
       "    <tr>\n",
       "      <th>32830</th>\n",
       "      <td>Sweet Surrender - Radio Edit</td>\n",
       "      <td>Starkillers</td>\n",
       "      <td>Sweet Surrender (Radio Edit)</td>\n",
       "      <td>♥ EDM LOVE 2020</td>\n",
       "      <td>edm</td>\n",
       "      <td>progressive electro house</td>\n",
       "    </tr>\n",
       "    <tr>\n",
       "      <th>32831</th>\n",
       "      <td>Only For You - Maor Levi Remix</td>\n",
       "      <td>Mat Zo</td>\n",
       "      <td>Only For You (Remixes)</td>\n",
       "      <td>♥ EDM LOVE 2020</td>\n",
       "      <td>edm</td>\n",
       "      <td>progressive electro house</td>\n",
       "    </tr>\n",
       "    <tr>\n",
       "      <th>32832</th>\n",
       "      <td>Typhoon - Original Mix</td>\n",
       "      <td>Julian Calor</td>\n",
       "      <td>Typhoon/Storm</td>\n",
       "      <td>♥ EDM LOVE 2020</td>\n",
       "      <td>edm</td>\n",
       "      <td>progressive electro house</td>\n",
       "    </tr>\n",
       "  </tbody>\n",
       "</table>\n",
       "<p>23449 rows × 6 columns</p>\n",
       "</div>"
      ],
      "text/plain": [
       "                                              track_name      track_artist  \\\n",
       "0      I Don't Care (with Justin Bieber) - Loud Luxur...        Ed Sheeran   \n",
       "1                        Memories - Dillon Francis Remix          Maroon 5   \n",
       "2                        All the Time - Don Diablo Remix      Zara Larsson   \n",
       "3                      Call You Mine - Keanu Silva Remix  The Chainsmokers   \n",
       "4                Someone You Loved - Future Humans Remix     Lewis Capaldi   \n",
       "...                                                  ...               ...   \n",
       "32828               City Of Lights - Official Radio Edit      Lush & Simon   \n",
       "32829                Closer - Sultan & Ned Shepard Remix    Tegan and Sara   \n",
       "32830                       Sweet Surrender - Radio Edit       Starkillers   \n",
       "32831                     Only For You - Maor Levi Remix            Mat Zo   \n",
       "32832                             Typhoon - Original Mix      Julian Calor   \n",
       "\n",
       "                                        track_album_name    playlist_name  \\\n",
       "0      I Don't Care (with Justin Bieber) [Loud Luxury...        Pop Remix   \n",
       "1                        Memories (Dillon Francis Remix)        Pop Remix   \n",
       "2                        All the Time (Don Diablo Remix)        Pop Remix   \n",
       "3                            Call You Mine - The Remixes        Pop Remix   \n",
       "4                Someone You Loved (Future Humans Remix)        Pop Remix   \n",
       "...                                                  ...              ...   \n",
       "32828                         City Of Lights (Vocal Mix)  ♥ EDM LOVE 2020   \n",
       "32829                                     Closer Remixed  ♥ EDM LOVE 2020   \n",
       "32830                       Sweet Surrender (Radio Edit)  ♥ EDM LOVE 2020   \n",
       "32831                             Only For You (Remixes)  ♥ EDM LOVE 2020   \n",
       "32832                                      Typhoon/Storm  ♥ EDM LOVE 2020   \n",
       "\n",
       "      playlist_genre          playlist_subgenre  \n",
       "0                pop                  dance pop  \n",
       "1                pop                  dance pop  \n",
       "2                pop                  dance pop  \n",
       "3                pop                  dance pop  \n",
       "4                pop                  dance pop  \n",
       "...              ...                        ...  \n",
       "32828            edm  progressive electro house  \n",
       "32829            edm  progressive electro house  \n",
       "32830            edm  progressive electro house  \n",
       "32831            edm  progressive electro house  \n",
       "32832            edm  progressive electro house  \n",
       "\n",
       "[23449 rows x 6 columns]"
      ]
     },
     "execution_count": 49,
     "metadata": {},
     "output_type": "execute_result"
    }
   ],
   "source": [
    "categorical_data=data.select_dtypes(\"object\")\n",
    "categorical_data"
   ]
  },
  {
   "cell_type": "code",
   "execution_count": 50,
   "metadata": {
    "id": "sHGdAYcyZVID",
    "pycharm": {
     "name": "#%%\n"
    }
   },
   "outputs": [],
   "source": [
    "# merging columns\n",
    "\n",
    "categorical_data[\"song_description\"]=categorical_data[\"track_name\"]+categorical_data[\"track_album_name\"]+categorical_data[\"playlist_name\"]+categorical_data[\"playlist_subgenre\"]\n",
    "\n",
    "categorical_data[\"description\"]=categorical_data[\"track_artist\"]+\" \"+categorical_data[\"song_description\"]"
   ]
  },
  {
   "cell_type": "code",
   "execution_count": 51,
   "metadata": {
    "id": "9RqsaygQZVFj",
    "pycharm": {
     "name": "#%%\n"
    }
   },
   "outputs": [],
   "source": [
    "categorical_data.drop([\"track_name\",\"track_album_name\",\"playlist_subgenre\",\"playlist_name\",\"song_description\",\"track_artist\"],axis=1,inplace=True)"
   ]
  },
  {
   "cell_type": "code",
   "execution_count": 52,
   "metadata": {
    "colab": {
     "base_uri": "https://localhost:8080/",
     "height": 424
    },
    "id": "U4tVJf5dZVDP",
    "outputId": "a38d808b-e710-4ffd-e2a2-10da5d33352f",
    "pycharm": {
     "name": "#%%\n"
    }
   },
   "outputs": [
    {
     "data": {
      "text/html": [
       "<div>\n",
       "<style scoped>\n",
       "    .dataframe tbody tr th:only-of-type {\n",
       "        vertical-align: middle;\n",
       "    }\n",
       "\n",
       "    .dataframe tbody tr th {\n",
       "        vertical-align: top;\n",
       "    }\n",
       "\n",
       "    .dataframe thead th {\n",
       "        text-align: right;\n",
       "    }\n",
       "</style>\n",
       "<table border=\"1\" class=\"dataframe\">\n",
       "  <thead>\n",
       "    <tr style=\"text-align: right;\">\n",
       "      <th></th>\n",
       "      <th>labels</th>\n",
       "      <th>description</th>\n",
       "    </tr>\n",
       "  </thead>\n",
       "  <tbody>\n",
       "    <tr>\n",
       "      <th>0</th>\n",
       "      <td>pop</td>\n",
       "      <td>Ed Sheeran I Don't Care (with Justin Bieber) -...</td>\n",
       "    </tr>\n",
       "    <tr>\n",
       "      <th>1</th>\n",
       "      <td>pop</td>\n",
       "      <td>Maroon 5 Memories - Dillon Francis RemixMemori...</td>\n",
       "    </tr>\n",
       "    <tr>\n",
       "      <th>2</th>\n",
       "      <td>pop</td>\n",
       "      <td>Zara Larsson All the Time - Don Diablo RemixAl...</td>\n",
       "    </tr>\n",
       "    <tr>\n",
       "      <th>3</th>\n",
       "      <td>pop</td>\n",
       "      <td>The Chainsmokers Call You Mine - Keanu Silva R...</td>\n",
       "    </tr>\n",
       "    <tr>\n",
       "      <th>4</th>\n",
       "      <td>pop</td>\n",
       "      <td>Lewis Capaldi Someone You Loved - Future Human...</td>\n",
       "    </tr>\n",
       "    <tr>\n",
       "      <th>...</th>\n",
       "      <td>...</td>\n",
       "      <td>...</td>\n",
       "    </tr>\n",
       "    <tr>\n",
       "      <th>32828</th>\n",
       "      <td>edm</td>\n",
       "      <td>Lush &amp; Simon City Of Lights - Official Radio E...</td>\n",
       "    </tr>\n",
       "    <tr>\n",
       "      <th>32829</th>\n",
       "      <td>edm</td>\n",
       "      <td>Tegan and Sara Closer - Sultan &amp; Ned Shepard R...</td>\n",
       "    </tr>\n",
       "    <tr>\n",
       "      <th>32830</th>\n",
       "      <td>edm</td>\n",
       "      <td>Starkillers Sweet Surrender - Radio EditSweet ...</td>\n",
       "    </tr>\n",
       "    <tr>\n",
       "      <th>32831</th>\n",
       "      <td>edm</td>\n",
       "      <td>Mat Zo Only For You - Maor Levi RemixOnly For ...</td>\n",
       "    </tr>\n",
       "    <tr>\n",
       "      <th>32832</th>\n",
       "      <td>edm</td>\n",
       "      <td>Julian Calor Typhoon - Original MixTyphoon/Sto...</td>\n",
       "    </tr>\n",
       "  </tbody>\n",
       "</table>\n",
       "<p>23449 rows × 2 columns</p>\n",
       "</div>"
      ],
      "text/plain": [
       "      labels                                        description\n",
       "0        pop  Ed Sheeran I Don't Care (with Justin Bieber) -...\n",
       "1        pop  Maroon 5 Memories - Dillon Francis RemixMemori...\n",
       "2        pop  Zara Larsson All the Time - Don Diablo RemixAl...\n",
       "3        pop  The Chainsmokers Call You Mine - Keanu Silva R...\n",
       "4        pop  Lewis Capaldi Someone You Loved - Future Human...\n",
       "...      ...                                                ...\n",
       "32828    edm  Lush & Simon City Of Lights - Official Radio E...\n",
       "32829    edm  Tegan and Sara Closer - Sultan & Ned Shepard R...\n",
       "32830    edm  Starkillers Sweet Surrender - Radio EditSweet ...\n",
       "32831    edm  Mat Zo Only For You - Maor Levi RemixOnly For ...\n",
       "32832    edm  Julian Calor Typhoon - Original MixTyphoon/Sto...\n",
       "\n",
       "[23449 rows x 2 columns]"
      ]
     },
     "execution_count": 52,
     "metadata": {},
     "output_type": "execute_result"
    }
   ],
   "source": [
    "categorical_data.rename(columns={\"playlist_genre\":\"labels\"},inplace=True)\n",
    "categorical_data"
   ]
  },
  {
   "cell_type": "code",
   "execution_count": 53,
   "metadata": {
    "id": "NqAyKeAjZVAu",
    "pycharm": {
     "name": "#%%\n"
    }
   },
   "outputs": [],
   "source": [
    "def clean(text):\n",
    "    #HTML to text format\n",
    "    soup=BeautifulSoup(text)\n",
    "    text=soup.getText()\n",
    "    return text"
   ]
  },
  {
   "cell_type": "code",
   "execution_count": 54,
   "metadata": {
    "colab": {
     "base_uri": "https://localhost:8080/"
    },
    "id": "kH4V8wg7ZU-L",
    "outputId": "d3ddcebf-1c6d-441a-bca9-ade8c09ff556",
    "pycharm": {
     "name": "#%%\n"
    }
   },
   "outputs": [
    {
     "name": "stderr",
     "output_type": "stream",
     "text": [
      "C:\\Users\\NikAndish\\AppData\\Local\\Temp\\ipykernel_3000\\2865246774.py:3: MarkupResemblesLocatorWarning: The input looks more like a filename than markup. You may want to open this file and pass the filehandle into Beautiful Soup.\n",
      "  soup=BeautifulSoup(text)\n"
     ]
    }
   ],
   "source": [
    "categorical_data[\"description\"]=categorical_data[\"description\"].apply(clean)"
   ]
  },
  {
   "cell_type": "code",
   "execution_count": 55,
   "metadata": {
    "pycharm": {
     "name": "#%%\n"
    }
   },
   "outputs": [],
   "source": [
    "# encoding labels\n",
    "label_encoder=LabelEncoder()\n",
    "categorical_data[\"labels\"]=label_encoder.fit_transform(categorical_data[\"labels\"])"
   ]
  },
  {
   "cell_type": "code",
   "execution_count": 56,
   "metadata": {
    "pycharm": {
     "name": "#%%\n"
    }
   },
   "outputs": [
    {
     "name": "stdout",
     "output_type": "stream",
     "text": [
      "unique values of labels :[2 4 5 1 3 0]\n"
     ]
    }
   ],
   "source": [
    "# extract labels \n",
    "y=categorical_data[\"labels\"]\n",
    "print(f\"unique values of labels :{y.unique()}\")"
   ]
  },
  {
   "cell_type": "code",
   "execution_count": 57,
   "metadata": {
    "id": "dYAmWKI3ZU8B",
    "pycharm": {
     "name": "#%%\n"
    }
   },
   "outputs": [
    {
     "name": "stdout",
     "output_type": "stream",
     "text": [
      "sample number 1 has this lable->  2\n",
      "after OHE: [0. 0. 1. 0. 0. 0.]\n"
     ]
    }
   ],
   "source": [
    "# labels one hot encoding\n",
    "print(f\"sample number 1 has this lable->  {y[0]}\")\n",
    "y=np.asarray(tf.keras.utils.to_categorical(y))\n",
    "print(f\"after OHE: {y[0]}\")"
   ]
  },
  {
   "cell_type": "code",
   "execution_count": 58,
   "metadata": {
    "id": "Lb_jH26Ga6Aa",
    "pycharm": {
     "name": "#%%\n"
    }
   },
   "outputs": [],
   "source": [
    "# tokenizing texts\n",
    "tokenizer=Tokenizer()\n",
    "tokenizer.fit_on_texts(categorical_data['description'])"
   ]
  },
  {
   "cell_type": "code",
   "execution_count": 59,
   "metadata": {
    "colab": {
     "base_uri": "https://localhost:8080/"
    },
    "id": "dQXwbOUAa8rh",
    "outputId": "d08eacc9-f42c-4e26-893d-f31abb5b9b79",
    "pycharm": {
     "name": "#%%\n"
    }
   },
   "outputs": [
    {
     "data": {
      "text/plain": [
       "47778"
      ]
     },
     "execution_count": 59,
     "metadata": {},
     "output_type": "execute_result"
    }
   ],
   "source": [
    "# number of unique words\n",
    "vocab_len=len(tokenizer.word_index) + 1\n",
    "vocab_len"
   ]
  },
  {
   "cell_type": "code",
   "execution_count": 60,
   "metadata": {
    "id": "3Yv9GnKKa8o6",
    "pycharm": {
     "name": "#%%\n"
    }
   },
   "outputs": [],
   "source": [
    "# transform each text (per row) to a list of numbers (sequence of numbers)\n",
    "\n",
    "encoded_texts=tokenizer.texts_to_sequences(categorical_data['description'])"
   ]
  },
  {
   "cell_type": "code",
   "execution_count": 61,
   "metadata": {
    "id": "sQd6NEfSa8mj",
    "pycharm": {
     "name": "#%%\n"
    }
   },
   "outputs": [],
   "source": [
    "# picking up the longest encoded sequence \n",
    "length_list=[]\n",
    "for seq in encoded_texts:\n",
    "  length_list.append(len(seq))\n",
    "\n",
    "max_len=max(length_list)"
   ]
  },
  {
   "cell_type": "code",
   "execution_count": 62,
   "metadata": {
    "colab": {
     "base_uri": "https://localhost:8080/"
    },
    "id": "M4viK0kNa8j8",
    "outputId": "987d0fa2-cbd5-4e0d-8492-db7483a0d164",
    "pycharm": {
     "name": "#%%\n"
    }
   },
   "outputs": [
    {
     "data": {
      "text/plain": [
       "58"
      ]
     },
     "execution_count": 62,
     "metadata": {},
     "output_type": "execute_result"
    }
   ],
   "source": [
    "max_len"
   ]
  },
  {
   "cell_type": "code",
   "execution_count": 63,
   "metadata": {
    "id": "EeYXVE5Da8fA",
    "pycharm": {
     "name": "#%%\n"
    }
   },
   "outputs": [],
   "source": [
    "# padding \n",
    "X=pad_sequences(encoded_texts,maxlen=max_len,padding=\"pre\")\n"
   ]
  },
  {
   "cell_type": "code",
   "execution_count": 64,
   "metadata": {
    "colab": {
     "base_uri": "https://localhost:8080/"
    },
    "id": "pNOcUt0fa8cU",
    "outputId": "8e7d0a00-8e67-4a61-b6e3-ac2afc683e26",
    "pycharm": {
     "name": "#%%\n"
    }
   },
   "outputs": [
    {
     "data": {
      "text/plain": [
       "(23449, 58)"
      ]
     },
     "execution_count": 64,
     "metadata": {},
     "output_type": "execute_result"
    }
   ],
   "source": [
    "# 23449 samples and 58 features\n",
    "\n",
    "X.shape"
   ]
  },
  {
   "cell_type": "code",
   "execution_count": 65,
   "metadata": {
    "id": "EDnm-wA4b4zG",
    "pycharm": {
     "name": "#%%\n"
    }
   },
   "outputs": [],
   "source": [
    "categorical_data=pd.DataFrame(X)\n",
    "categorical_data_mat=categorical_data.to_numpy()"
   ]
  },
  {
   "cell_type": "markdown",
   "metadata": {
    "pycharm": {
     "name": "#%% md\n"
    }
   },
   "source": [
    "# Numerical dataset"
   ]
  },
  {
   "cell_type": "code",
   "execution_count": 66,
   "metadata": {
    "id": "zjCljRGGbVrA",
    "pycharm": {
     "name": "#%%\n"
    }
   },
   "outputs": [],
   "source": [
    "numerical_data = data.select_dtypes([\"float64\",\"int64\"])"
   ]
  },
  {
   "cell_type": "code",
   "execution_count": 67,
   "metadata": {
    "id": "Ib8HpzEkbVo3",
    "pycharm": {
     "name": "#%%\n"
    }
   },
   "outputs": [],
   "source": [
    "numerical_data[\"duration_ms\"]=numerical_data[\"duration_ms\"]/60000"
   ]
  },
  {
   "cell_type": "code",
   "execution_count": 68,
   "metadata": {
    "id": "rtWojgg0bVl-",
    "pycharm": {
     "name": "#%%\n"
    }
   },
   "outputs": [],
   "source": [
    "# Normalizing and Scaling\n",
    "scaler=StandardScaler()\n",
    "numerical_data=scaler.fit_transform(numerical_data)\n",
    "numerical_data=pd.DataFrame(numerical_data)\n",
    "norm=Normalizer(norm=\"l2\")\n",
    "numerical_data=norm.fit_transform(numerical_data)"
   ]
  },
  {
   "cell_type": "code",
   "execution_count": 69,
   "metadata": {
    "colab": {
     "base_uri": "https://localhost:8080/",
     "height": 320
    },
    "id": "1byyDmCFbVjQ",
    "outputId": "5209bd9e-7c78-4be0-f240-3c007c7e5e7a",
    "pycharm": {
     "name": "#%%\n"
    }
   },
   "outputs": [
    {
     "data": {
      "text/html": [
       "<div>\n",
       "<style scoped>\n",
       "    .dataframe tbody tr th:only-of-type {\n",
       "        vertical-align: middle;\n",
       "    }\n",
       "\n",
       "    .dataframe tbody tr th {\n",
       "        vertical-align: top;\n",
       "    }\n",
       "\n",
       "    .dataframe thead th {\n",
       "        text-align: right;\n",
       "    }\n",
       "</style>\n",
       "<table border=\"1\" class=\"dataframe\">\n",
       "  <thead>\n",
       "    <tr style=\"text-align: right;\">\n",
       "      <th></th>\n",
       "      <th>0</th>\n",
       "      <th>1</th>\n",
       "      <th>2</th>\n",
       "      <th>3</th>\n",
       "      <th>4</th>\n",
       "      <th>5</th>\n",
       "      <th>6</th>\n",
       "      <th>7</th>\n",
       "      <th>8</th>\n",
       "      <th>9</th>\n",
       "      <th>10</th>\n",
       "      <th>11</th>\n",
       "      <th>12</th>\n",
       "    </tr>\n",
       "  </thead>\n",
       "  <tbody>\n",
       "    <tr>\n",
       "      <th>count</th>\n",
       "      <td>23449.000000</td>\n",
       "      <td>23449.000000</td>\n",
       "      <td>23449.000000</td>\n",
       "      <td>23449.000000</td>\n",
       "      <td>23449.000000</td>\n",
       "      <td>23449.000000</td>\n",
       "      <td>23449.000000</td>\n",
       "      <td>23449.000000</td>\n",
       "      <td>23449.000000</td>\n",
       "      <td>23449.000000</td>\n",
       "      <td>23449.000000</td>\n",
       "      <td>23449.000000</td>\n",
       "      <td>23449.000000</td>\n",
       "    </tr>\n",
       "    <tr>\n",
       "      <th>mean</th>\n",
       "      <td>0.009141</td>\n",
       "      <td>0.013048</td>\n",
       "      <td>0.017732</td>\n",
       "      <td>-0.000146</td>\n",
       "      <td>0.024645</td>\n",
       "      <td>0.003371</td>\n",
       "      <td>-0.019350</td>\n",
       "      <td>-0.022565</td>\n",
       "      <td>-0.030964</td>\n",
       "      <td>-0.017370</td>\n",
       "      <td>0.007478</td>\n",
       "      <td>-0.007053</td>\n",
       "      <td>-0.012472</td>\n",
       "    </tr>\n",
       "    <tr>\n",
       "      <th>std</th>\n",
       "      <td>0.298749</td>\n",
       "      <td>0.281817</td>\n",
       "      <td>0.270367</td>\n",
       "      <td>0.304008</td>\n",
       "      <td>0.258867</td>\n",
       "      <td>0.316236</td>\n",
       "      <td>0.266439</td>\n",
       "      <td>0.262023</td>\n",
       "      <td>0.231633</td>\n",
       "      <td>0.258471</td>\n",
       "      <td>0.293647</td>\n",
       "      <td>0.284292</td>\n",
       "      <td>0.260929</td>\n",
       "    </tr>\n",
       "    <tr>\n",
       "      <th>min</th>\n",
       "      <td>-0.736551</td>\n",
       "      <td>-0.796255</td>\n",
       "      <td>-0.777393</td>\n",
       "      <td>-0.719985</td>\n",
       "      <td>-0.914120</td>\n",
       "      <td>-0.714491</td>\n",
       "      <td>-0.471250</td>\n",
       "      <td>-0.517032</td>\n",
       "      <td>-0.279917</td>\n",
       "      <td>-0.515800</td>\n",
       "      <td>-0.795081</td>\n",
       "      <td>-0.762611</td>\n",
       "      <td>-0.753423</td>\n",
       "    </tr>\n",
       "    <tr>\n",
       "      <th>25%</th>\n",
       "      <td>-0.216635</td>\n",
       "      <td>-0.188248</td>\n",
       "      <td>-0.196455</td>\n",
       "      <td>-0.282069</td>\n",
       "      <td>-0.142022</td>\n",
       "      <td>-0.330749</td>\n",
       "      <td>-0.200285</td>\n",
       "      <td>-0.213234</td>\n",
       "      <td>-0.137669</td>\n",
       "      <td>-0.194291</td>\n",
       "      <td>-0.228201</td>\n",
       "      <td>-0.241680</td>\n",
       "      <td>-0.196809</td>\n",
       "    </tr>\n",
       "    <tr>\n",
       "      <th>50%</th>\n",
       "      <td>0.037238</td>\n",
       "      <td>0.035365</td>\n",
       "      <td>0.040803</td>\n",
       "      <td>0.039426</td>\n",
       "      <td>0.057705</td>\n",
       "      <td>0.188754</td>\n",
       "      <td>-0.122106</td>\n",
       "      <td>-0.130098</td>\n",
       "      <td>-0.115346</td>\n",
       "      <td>-0.111253</td>\n",
       "      <td>0.002369</td>\n",
       "      <td>0.011779</td>\n",
       "      <td>-0.050020</td>\n",
       "    </tr>\n",
       "    <tr>\n",
       "      <th>75%</th>\n",
       "      <td>0.239850</td>\n",
       "      <td>0.223998</td>\n",
       "      <td>0.243138</td>\n",
       "      <td>0.252183</td>\n",
       "      <td>0.220126</td>\n",
       "      <td>0.280777</td>\n",
       "      <td>0.083105</td>\n",
       "      <td>0.115439</td>\n",
       "      <td>-0.083520</td>\n",
       "      <td>0.113876</td>\n",
       "      <td>0.238762</td>\n",
       "      <td>0.146407</td>\n",
       "      <td>0.138333</td>\n",
       "    </tr>\n",
       "    <tr>\n",
       "      <th>max</th>\n",
       "      <td>0.738870</td>\n",
       "      <td>0.745852</td>\n",
       "      <td>0.696681</td>\n",
       "      <td>0.747516</td>\n",
       "      <td>0.679523</td>\n",
       "      <td>0.615844</td>\n",
       "      <td>0.937662</td>\n",
       "      <td>0.829024</td>\n",
       "      <td>0.894179</td>\n",
       "      <td>0.923020</td>\n",
       "      <td>0.739478</td>\n",
       "      <td>0.843832</td>\n",
       "      <td>0.910237</td>\n",
       "    </tr>\n",
       "  </tbody>\n",
       "</table>\n",
       "</div>"
      ],
      "text/plain": [
       "                 0             1             2             3             4   \\\n",
       "count  23449.000000  23449.000000  23449.000000  23449.000000  23449.000000   \n",
       "mean       0.009141      0.013048      0.017732     -0.000146      0.024645   \n",
       "std        0.298749      0.281817      0.270367      0.304008      0.258867   \n",
       "min       -0.736551     -0.796255     -0.777393     -0.719985     -0.914120   \n",
       "25%       -0.216635     -0.188248     -0.196455     -0.282069     -0.142022   \n",
       "50%        0.037238      0.035365      0.040803      0.039426      0.057705   \n",
       "75%        0.239850      0.223998      0.243138      0.252183      0.220126   \n",
       "max        0.738870      0.745852      0.696681      0.747516      0.679523   \n",
       "\n",
       "                 5             6             7             8             9   \\\n",
       "count  23449.000000  23449.000000  23449.000000  23449.000000  23449.000000   \n",
       "mean       0.003371     -0.019350     -0.022565     -0.030964     -0.017370   \n",
       "std        0.316236      0.266439      0.262023      0.231633      0.258471   \n",
       "min       -0.714491     -0.471250     -0.517032     -0.279917     -0.515800   \n",
       "25%       -0.330749     -0.200285     -0.213234     -0.137669     -0.194291   \n",
       "50%        0.188754     -0.122106     -0.130098     -0.115346     -0.111253   \n",
       "75%        0.280777      0.083105      0.115439     -0.083520      0.113876   \n",
       "max        0.615844      0.937662      0.829024      0.894179      0.923020   \n",
       "\n",
       "                 10            11            12  \n",
       "count  23449.000000  23449.000000  23449.000000  \n",
       "mean       0.007478     -0.007053     -0.012472  \n",
       "std        0.293647      0.284292      0.260929  \n",
       "min       -0.795081     -0.762611     -0.753423  \n",
       "25%       -0.228201     -0.241680     -0.196809  \n",
       "50%        0.002369      0.011779     -0.050020  \n",
       "75%        0.238762      0.146407      0.138333  \n",
       "max        0.739478      0.843832      0.910237  "
      ]
     },
     "execution_count": 69,
     "metadata": {},
     "output_type": "execute_result"
    }
   ],
   "source": [
    "numerical_data=pd.DataFrame(numerical_data)\n",
    "numerical_data.describe()"
   ]
  },
  {
   "cell_type": "code",
   "execution_count": 70,
   "metadata": {
    "colab": {
     "base_uri": "https://localhost:8080/"
    },
    "id": "V1rN-5nVbVgc",
    "outputId": "8b99a7d5-e468-4db3-b0fe-0349aeb6a276",
    "pycharm": {
     "name": "#%%\n"
    }
   },
   "outputs": [
    {
     "data": {
      "text/plain": [
       "(23449, 13)"
      ]
     },
     "execution_count": 70,
     "metadata": {},
     "output_type": "execute_result"
    }
   ],
   "source": [
    "numerical_data_mat=numerical_data.to_numpy()\n",
    "numerical_data_mat.shape"
   ]
  },
  {
   "cell_type": "code",
   "execution_count": 71,
   "metadata": {
    "id": "6uPFA3dPbVdR",
    "pycharm": {
     "name": "#%%\n"
    }
   },
   "outputs": [],
   "source": [
    "final_data=np.concatenate([numerical_data_mat,categorical_data_mat],axis=1)"
   ]
  },
  {
   "cell_type": "code",
   "execution_count": 72,
   "metadata": {
    "id": "h6HceTBmd0wu",
    "pycharm": {
     "name": "#%%\n"
    }
   },
   "outputs": [],
   "source": [
    "X=final_data\n"
   ]
  },
  {
   "cell_type": "code",
   "execution_count": 73,
   "metadata": {
    "id": "zxLJcrNJcPXg",
    "pycharm": {
     "name": "#%%\n"
    }
   },
   "outputs": [],
   "source": [
    "x_train,x_test,y_train,y_test=train_test_split(X,y,test_size=0.25,random_state=0)"
   ]
  },
  {
   "cell_type": "code",
   "execution_count": 74,
   "metadata": {
    "id": "ACD2YjDycURf",
    "pycharm": {
     "name": "#%%\n"
    }
   },
   "outputs": [
    {
     "data": {
      "text/plain": [
       "(17586, 71)"
      ]
     },
     "execution_count": 74,
     "metadata": {},
     "output_type": "execute_result"
    }
   ],
   "source": [
    "x_train.shape"
   ]
  },
  {
   "cell_type": "code",
   "execution_count": 75,
   "metadata": {
    "pycharm": {
     "name": "#%%\n"
    }
   },
   "outputs": [
    {
     "data": {
      "text/plain": [
       "(5863, 71)"
      ]
     },
     "execution_count": 75,
     "metadata": {},
     "output_type": "execute_result"
    }
   ],
   "source": [
    "x_test.shape\n"
   ]
  },
  {
   "cell_type": "code",
   "execution_count": null,
   "metadata": {
    "pycharm": {
     "name": "#%%\n"
    }
   },
   "outputs": [],
   "source": [
    "\n"
   ]
  },
  {
   "cell_type": "code",
   "execution_count": 76,
   "metadata": {
    "pycharm": {
     "name": "#%%\n"
    }
   },
   "outputs": [],
   "source": [
    "# Model architecture\n",
    "model=Sequential()\n",
    "\n",
    "model.add(Embedding(input_dim=vocab_len,output_dim=50,input_length=x_train.shape[1]))\n",
    "model.add(Conv1D(filters=64,kernel_size=4,padding=\"same\",activation=\"relu\"))\n",
    "model.add(MaxPool1D())\n",
    "model.add(Flatten())\n",
    "model.add(Dense(units=32,activation=\"relu\"))\n",
    "model.add(Dense(units=6,activation=\"softmax\",name=\"output\"))\n"
   ]
  },
  {
   "cell_type": "code",
   "execution_count": 77,
   "metadata": {
    "pycharm": {
     "name": "#%%\n"
    }
   },
   "outputs": [
    {
     "name": "stdout",
     "output_type": "stream",
     "text": [
      "Model: \"sequential_1\"\n",
      "_________________________________________________________________\n",
      " Layer (type)                Output Shape              Param #   \n",
      "=================================================================\n",
      " embedding_1 (Embedding)     (None, 71, 50)            2388900   \n",
      "                                                                 \n",
      " conv1d_1 (Conv1D)           (None, 71, 64)            12864     \n",
      "                                                                 \n",
      " max_pooling1d_1 (MaxPoolin  (None, 35, 64)            0         \n",
      " g1D)                                                            \n",
      "                                                                 \n",
      " flatten_1 (Flatten)         (None, 2240)              0         \n",
      "                                                                 \n",
      " dense_1 (Dense)             (None, 32)                71712     \n",
      "                                                                 \n",
      " output (Dense)              (None, 6)                 198       \n",
      "                                                                 \n",
      "=================================================================\n",
      "Total params: 2473674 (9.44 MB)\n",
      "Trainable params: 2473674 (9.44 MB)\n",
      "Non-trainable params: 0 (0.00 Byte)\n",
      "_________________________________________________________________\n"
     ]
    }
   ],
   "source": [
    " model.summary()"
   ]
  },
  {
   "cell_type": "code",
   "execution_count": 78,
   "metadata": {
    "pycharm": {
     "name": "#%%\n"
    }
   },
   "outputs": [
    {
     "data": {
      "image/png": "[encoded data removed]",
      "text/plain": [
       "<IPython.core.display.Image object>"
      ]
     },
     "execution_count": 78,
     "metadata": {},
     "output_type": "execute_result"
    }
   ],
   "source": [
    "tf.keras.utils.plot_model(model,\"m.png\",show_shapes=True)"
   ]
  },
  {
   "cell_type": "markdown",
   "metadata": {
    "pycharm": {
     "name": "#%% md\n"
    }
   },
   "source": [
    "# Model training"
   ]
  },
  {
   "cell_type": "code",
   "execution_count": 79,
   "metadata": {
    "pycharm": {
     "name": "#%%\n"
    }
   },
   "outputs": [],
   "source": [
    "# compiling Model\n",
    "optimizer=tf.optimizers.Adam(learning_rate=0.001)\n",
    "loss=tf.losses.CategoricalCrossentropy()\n",
    "metric=tf.metrics.CategoricalAccuracy()\n",
    "model.compile(optimizer=optimizer,loss=loss,metrics=metric)\n"
   ]
  },
  {
   "cell_type": "code",
   "execution_count": 80,
   "metadata": {
    "pycharm": {
     "name": "#%%\n"
    }
   },
   "outputs": [
    {
     "name": "stdout",
     "output_type": "stream",
     "text": [
      "Epoch 1/5\n",
      "282/282 - 12s - loss: 0.5555 - categorical_accuracy: 0.8003 - val_loss: 0.0223 - val_categorical_accuracy: 0.9937 - 12s/epoch - 43ms/step\n",
      "Epoch 2/5\n",
      "282/282 - 11s - loss: 0.0057 - categorical_accuracy: 0.9994 - val_loss: 0.0100 - val_categorical_accuracy: 0.9977 - 11s/epoch - 38ms/step\n",
      "Epoch 3/5\n",
      "282/282 - 11s - loss: 7.8398e-04 - categorical_accuracy: 1.0000 - val_loss: 0.0083 - val_categorical_accuracy: 0.9977 - 11s/epoch - 38ms/step\n",
      "Epoch 4/5\n",
      "282/282 - 10s - loss: 3.7246e-04 - categorical_accuracy: 1.0000 - val_loss: 0.0079 - val_categorical_accuracy: 0.9977 - 10s/epoch - 37ms/step\n",
      "Epoch 5/5\n",
      "282/282 - 10s - loss: 2.2213e-04 - categorical_accuracy: 1.0000 - val_loss: 0.0078 - val_categorical_accuracy: 0.9977 - 10s/epoch - 36ms/step\n"
     ]
    },
    {
     "data": {
      "text/plain": [
       "<keras.src.callbacks.History at 0x1f1d74c4df0>"
      ]
     },
     "execution_count": 80,
     "metadata": {},
     "output_type": "execute_result"
    }
   ],
   "source": [
    "# fittind model\n",
    "model.fit(x_train,y_train,epochs=5,batch_size=50,validation_split=0.2,verbose=2)"
   ]
  },
  {
   "cell_type": "markdown",
   "metadata": {
    "pycharm": {
     "name": "#%% md\n"
    }
   },
   "source": [
    "# Evaluating model"
   ]
  },
  {
   "cell_type": "code",
   "execution_count": 81,
   "metadata": {
    "pycharm": {
     "name": "#%%\n"
    }
   },
   "outputs": [
    {
     "name": "stdout",
     "output_type": "stream",
     "text": [
      "184/184 [==============================] - 1s 4ms/step - loss: 0.0076 - categorical_accuracy: 0.9983\n"
     ]
    },
    {
     "data": {
      "text/plain": [
       "[0.007582336198538542, 0.9982944130897522]"
      ]
     },
     "execution_count": 81,
     "metadata": {},
     "output_type": "execute_result"
    }
   ],
   "source": [
    "model.evaluate(x_test,y_test)"
   ]
  },
  {
   "cell_type": "code",
   "execution_count": null,
   "metadata": {
    "pycharm": {
     "name": "#%%\n"
    }
   },
   "outputs": [],
   "source": []
  },
  {
   "cell_type": "code",
   "execution_count": null,
   "metadata": {
    "pycharm": {
     "name": "#%%\n"
    }
   },
   "outputs": [],
   "source": []
  }
 ],
 "metadata": {
  "colab": {
   "provenance": []
  },
  "kernelspec": {
   "display_name": "Python 3 (ipykernel)",
   "language": "python",
   "name": "python3"
  },
  "language_info": {
   "codemirror_mode": {
    "name": "ipython",
    "version": 3
   },
   "file_extension": ".py",
   "mimetype": "text/x-python",
   "name": "python",
   "nbconvert_exporter": "python",
   "pygments_lexer": "ipython3",
   "version": "3.9.13"
  }
 },
 "nbformat": 4,
 "nbformat_minor": 4
}